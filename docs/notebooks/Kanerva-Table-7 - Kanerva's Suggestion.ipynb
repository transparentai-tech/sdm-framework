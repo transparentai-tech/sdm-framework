{
 "cells": [
  {
   "cell_type": "markdown",
   "metadata": {},
   "source": [
    "# Kanerva's Table 7.3 (page 70)"
   ]
  },
  {
   "cell_type": "code",
   "execution_count": null,
   "metadata": {},
   "outputs": [],
   "source": [
    "import sdm as sdmlib\n",
    "import matplotlib.pyplot as plt\n",
    "from IPython.display import clear_output\n",
    "import random\n",
    "%matplotlib inline"
   ]
  },
  {
   "cell_type": "code",
   "execution_count": null,
   "metadata": {},
   "outputs": [],
   "source": [
    "bits = 1000\n",
    "sample = 1000000\n",
    "radius = 451\n",
    "scanner_type = sdmlib.SDM_SCANNER_OPENCL"
   ]
  },
  {
   "cell_type": "code",
   "execution_count": null,
   "metadata": {},
   "outputs": [],
   "source": [
    "#address_space = sdmlib.AddressSpace.init_from_b64_file('sdm-10000w.as')\n",
    "#counter = sdmlib.Counter.load_file('sdm-10000w')\n",
    "address_space = sdmlib.AddressSpace.init_random(bits, sample)\n",
    "counter = sdmlib.Counter.init_zero(bits, sample)\n",
    "sdm = sdmlib.SDM(address_space, counter, radius, scanner_type)"
   ]
  },
  {
   "cell_type": "code",
   "execution_count": null,
   "metadata": {},
   "outputs": [],
   "source": [
    "import time\n",
    "t0 = time.time()\n",
    "bitstrings = []\n",
    "for i in range(10000):\n",
    "    if i % 100 == 0:\n",
    "        clear_output(wait=True)\n",
    "        print i\n",
    "    bs1 = sdmlib.Bitstring.init_random(1000)\n",
    "    #bs2 = sdmlib.Bitstring.init_random(1000)\n",
    "    #bitstrings.append(bs1)\n",
    "    sdm.write(bs1, bs1)\n",
    "t1 = time.time()\n",
    "print t1-t0"
   ]
  },
  {
   "cell_type": "code",
   "execution_count": null,
   "metadata": {},
   "outputs": [],
   "source": [
    "b = sdmlib.Bitstring.init_random(1000)\n",
    "sdm.write(b, b)"
   ]
  },
  {
   "cell_type": "code",
   "execution_count": null,
   "metadata": {},
   "outputs": [],
   "source": [
    "from IPython.display import clear_output\n",
    "\n",
    "max_iter = 1\n",
    "samples = 5\n",
    "\n",
    "distances = []\n",
    "#x = range(200, 250)\n",
    "x = range(0, 1001)\n",
    "for i, dist in enumerate(x):\n",
    "    clear_output(wait=True)\n",
    "    print 'Distance: {:4d} ({:.2f}%)'.format(dist, 100.*(i+1)/len(x))\n",
    "    v = []\n",
    "    for j in range(samples):\n",
    "        #b = random.choice(bitstrings)\n",
    "        c = sdmlib.Bitstring.init_from_bitstring(b)\n",
    "        c.flip_random_bits(dist)\n",
    "        assert c.distance_to(b) == dist\n",
    "        d = sdm.iter_read(c, max_iter=max_iter)\n",
    "        v.append(d.distance_to(c))\n",
    "    distances.append(1.0*sum(v)/len(v))\n",
    "print 'Done!'"
   ]
  },
  {
   "cell_type": "code",
   "execution_count": null,
   "metadata": {},
   "outputs": [],
   "source": [
    "plt.figure(figsize=(8, 8), dpi=300)\n",
    "plt.plot(x, distances)\n",
    "plt.plot(x, x, 'k')\n",
    "plt.plot(x, [500]*len(x), 'k:')\n",
    "plt.title('Kanerva\\'s Suggestion (autoassociative)')\n",
    "if max_iter == 1:\n",
    "    plt.ylabel('First step length')\n",
    "#else:\n",
    "#    plt.ylabel('New distance (after {} iterative reads)'.format(max_iter))\n",
    "plt.xlabel('Old distance')\n",
    "plt.grid()\n",
    "plt.axis([0, 1000, 0, 1000]);\n",
    "#plt.axis([x[0], x[-1], x[0], x[-1]]);"
   ]
  },
  {
   "cell_type": "code",
   "execution_count": null,
   "metadata": {},
   "outputs": [],
   "source": [
    "c = sdmlib.Bitstring.init_from_bitstring(b)\n",
    "c.flip_random_bits(1000)\n",
    "d = c\n",
    "print 0, b.distance_to(d)\n",
    "for i in xrange(10):\n",
    "    d = sdm.read(d)\n",
    "    print i+1, b.distance_to(d)"
   ]
  },
  {
   "cell_type": "code",
   "execution_count": null,
   "metadata": {},
   "outputs": [],
   "source": [
    "distances"
   ]
  },
  {
   "cell_type": "code",
   "execution_count": null,
   "metadata": {},
   "outputs": [],
   "source": []
  }
 ],
 "metadata": {
  "kernelspec": {
   "display_name": "Python 2",
   "language": "python",
   "name": "python2"
  },
  "language_info": {
   "codemirror_mode": {
    "name": "ipython",
    "version": 2
   },
   "file_extension": ".py",
   "mimetype": "text/x-python",
   "name": "python",
   "nbconvert_exporter": "python",
   "pygments_lexer": "ipython2",
   "version": "2.7.10"
  }
 },
 "nbformat": 4,
 "nbformat_minor": 2
}
