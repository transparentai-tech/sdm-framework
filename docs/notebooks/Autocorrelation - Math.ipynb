{
 "cells": [
  {
   "cell_type": "code",
   "execution_count": null,
   "metadata": {},
   "outputs": [],
   "source": [
    "from __future__ import print_function\n",
    "from math import factorial, log, exp\n",
    "import matplotlib.pyplot as plt\n",
    "from sdm import utils\n",
    "import sys"
   ]
  },
  {
   "cell_type": "code",
   "execution_count": null,
   "metadata": {},
   "outputs": [],
   "source": [
    "sys.setrecursionlimit(20000)"
   ]
  },
  {
   "cell_type": "code",
   "execution_count": null,
   "metadata": {},
   "outputs": [],
   "source": [
    "def binom(a, b):\n",
    "    return factorial(a) // factorial(b) // factorial(a-b)"
   ]
  },
  {
   "cell_type": "code",
   "execution_count": null,
   "metadata": {},
   "outputs": [],
   "source": [
    "_cache = {}\n",
    "def binom(a, b):\n",
    "    if b == 0:\n",
    "        return 1\n",
    "    if b < 0:\n",
    "        return 0\n",
    "    if b > a:\n",
    "        return 0\n",
    "\n",
    "    key = (a, b)\n",
    "    if key in _cache:\n",
    "        return _cache[key]\n",
    "    \n",
    "    r = binom(a-1, b) + binom(a-1, b-1)\n",
    "    _cache[key] = r\n",
    "    return r"
   ]
  },
  {
   "cell_type": "code",
   "execution_count": null,
   "metadata": {},
   "outputs": [],
   "source": [
    "def calc_p(n, r):\n",
    "    a = sum(binom(n-1, k) for k in range(r+1))\n",
    "    b = sum(binom(n, k) for k in range(r+1))\n",
    "    return exp(mylog(a) - mylog(b))\n",
    "    return 1.0*a/b"
   ]
  },
  {
   "cell_type": "code",
   "execution_count": null,
   "metadata": {},
   "outputs": [],
   "source": [
    "calc_p(10000, 4845)"
   ]
  },
  {
   "cell_type": "code",
   "execution_count": null,
   "metadata": {},
   "outputs": [],
   "source": [
    "def mylog(a):\n",
    "    s = str(a)\n",
    "    d = len(s)\n",
    "    b = float(s[0] + '.' + s[1:])\n",
    "    return log(b) + (d-1) * log(10)\n",
    "    \n",
    "    \n",
    "def run(bits, steps):\n",
    "    x = list(range(0, bits, steps))\n",
    "    y = []\n",
    "\n",
    "    a = 0\n",
    "    b = 0\n",
    "\n",
    "    for r in range(0, bits):\n",
    "        print(r, end=' ')\n",
    "        a += binom(bits-1, r)\n",
    "        b += binom(bits, r)\n",
    "        \n",
    "        #y.append(1.0*a/b)\n",
    "        if r % steps == 0:\n",
    "            y.append(exp(mylog(a) - mylog(b)))\n",
    "    \n",
    "    return x, y"
   ]
  },
  {
   "cell_type": "code",
   "execution_count": null,
   "metadata": {
    "scrolled": false
   },
   "outputs": [],
   "source": [
    "v = []\n",
    "for bits, steps in [(256, 1), (1000, 1), (2000, 1)]:\n",
    "    x, y = run(bits, steps)\n",
    "    v.append((bits, x, y))"
   ]
  },
  {
   "cell_type": "code",
   "execution_count": null,
   "metadata": {},
   "outputs": [],
   "source": [
    "plt.figure(figsize=(8, 6), dpi=300)\n",
    "\n",
    "for bits, x, y in v:\n",
    "    radius = utils.calculate_radius(bits, 0.001)\n",
    "    plt.plot([1.0*a/bits for a in x], y, label='{} ($r={}$, $r/n={:.4f}$)'.format(bits, radius, 1.0*radius/bits))\n",
    "\n",
    "plt.xlabel('Radius (percent)')\n",
    "plt.ylabel('Autocorrelation')\n",
    "plt.xlim([0.4, 0.6])\n",
    "plt.ylim([0.48, 0.62])\n",
    "plt.grid()\n",
    "plt.legend();"
   ]
  },
  {
   "cell_type": "code",
   "execution_count": null,
   "metadata": {},
   "outputs": [],
   "source": []
  }
 ],
 "metadata": {
  "kernelspec": {
   "display_name": "Python 3",
   "language": "python",
   "name": "python3"
  },
  "language_info": {
   "codemirror_mode": {
    "name": "ipython",
    "version": 2
   },
   "file_extension": ".py",
   "mimetype": "text/x-python",
   "name": "python",
   "nbconvert_exporter": "python",
   "pygments_lexer": "ipython2",
   "version": "2.7.10"
  }
 },
 "nbformat": 4,
 "nbformat_minor": 2
}
