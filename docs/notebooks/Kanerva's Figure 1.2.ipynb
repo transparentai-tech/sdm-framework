{
 "cells": [
  {
   "cell_type": "markdown",
   "metadata": {},
   "source": [
    "# Kanerva's Figure 1.2 (page 25)"
   ]
  },
  {
   "cell_type": "code",
   "execution_count": null,
   "metadata": {},
   "outputs": [],
   "source": [
    "import sdm as sdmlib\n",
    "import matplotlib.pyplot as plt\n",
    "from IPython.display import clear_output\n",
    "%matplotlib inline"
   ]
  },
  {
   "cell_type": "code",
   "execution_count": null,
   "metadata": {},
   "outputs": [],
   "source": [
    "bits = 1000\n",
    "sample = 1000000\n",
    "\n",
    "address_space = sdmlib.AddressSpace.init_random(bits, sample)"
   ]
  },
  {
   "cell_type": "code",
   "execution_count": null,
   "metadata": {},
   "outputs": [],
   "source": [
    "def calculate_probabilities():\n",
    "    from math import factorial\n",
    "    comb = lambda a, b: factorial(a)/factorial(b)/factorial(a-b)\n",
    "    acc = [0]\n",
    "    for i in xrange(1001):\n",
    "        acc.append(acc[-1] + comb(1000, i))\n",
    "    x = range(0, 1001)\n",
    "    y = [acc[i]/float(2**1000) for i in xrange(1001)]\n",
    "    return x, y"
   ]
  },
  {
   "cell_type": "code",
   "execution_count": null,
   "metadata": {},
   "outputs": [],
   "source": [
    "x, y = calculate_probabilities()\n",
    "plt.plot(x, y);"
   ]
  },
  {
   "cell_type": "code",
   "execution_count": null,
   "metadata": {},
   "outputs": [],
   "source": [
    "def run(radius):\n",
    "    x = range(0, 1001)\n",
    "    y = []\n",
    "    for i, dist in enumerate(x):\n",
    "        clear_output(wait=True)\n",
    "        print 'Distance: {:4d} ({:.2f}%)'.format(dist, 100.*(i+1)/len(x))\n",
    "        \n",
    "        b1 = sdmlib.Bitstring.init_random(bits)\n",
    "        b2 = sdmlib.Bitstring.init_from_bitstring(b1)\n",
    "        b2.flip_random_bits(dist)\n",
    "        assert b1.distance_to(b2) == dist\n",
    "    \n",
    "        h1 = set(address_space.scan_thread(b1, radius, 4))\n",
    "        h2 = set(address_space.scan_thread(b2, radius, 4))\n",
    "        \n",
    "        y.append(len(h1&h2))\n",
    "    return x, y"
   ]
  },
  {
   "cell_type": "code",
   "execution_count": null,
   "metadata": {},
   "outputs": [],
   "source": [
    "v = []"
   ]
  },
  {
   "cell_type": "code",
   "execution_count": null,
   "metadata": {},
   "outputs": [],
   "source": [
    "v.append((451, run(451)))"
   ]
  },
  {
   "cell_type": "code",
   "execution_count": null,
   "metadata": {},
   "outputs": [],
   "source": [
    "v.append((480, run(480)))"
   ]
  },
  {
   "cell_type": "code",
   "execution_count": null,
   "metadata": {},
   "outputs": [],
   "source": [
    "v.append((500, run(500)))"
   ]
  },
  {
   "cell_type": "code",
   "execution_count": null,
   "metadata": {},
   "outputs": [],
   "source": [
    "plt.figure(figsize=(8, 6), dpi=100)\n",
    "plt.hold(True)\n",
    "for d, points in v[:-1]:\n",
    "    x, y = points\n",
    "    ymax = max(y)\n",
    "    y = [float(a)/ymax for a in y]\n",
    "    plt.plot(x, y, label='Radius: {}'.format(d))\n",
    "plt.xlabel('Distance between two random bitstrings')\n",
    "plt.ylabel('Intersection of their circles')\n",
    "plt.legend()\n",
    "plt.hold(False)"
   ]
  },
  {
   "cell_type": "code",
   "execution_count": null,
   "metadata": {},
   "outputs": [],
   "source": []
  }
 ],
 "metadata": {
  "kernelspec": {
   "display_name": "Python 2",
   "language": "python",
   "name": "python2"
  },
  "language_info": {
   "codemirror_mode": {
    "name": "ipython",
    "version": 2
   },
   "file_extension": ".py",
   "mimetype": "text/x-python",
   "name": "python",
   "nbconvert_exporter": "python",
   "pygments_lexer": "ipython2",
   "version": "2.7.10"
  }
 },
 "nbformat": 4,
 "nbformat_minor": 2
}
