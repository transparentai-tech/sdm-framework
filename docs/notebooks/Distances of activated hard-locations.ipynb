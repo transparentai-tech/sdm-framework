{
 "cells": [
  {
   "cell_type": "code",
   "execution_count": null,
   "metadata": {},
   "outputs": [],
   "source": [
    "from __future__ import print_function\n",
    "import sdm as sdmlib\n",
    "from sdm import utils\n",
    "import numpy as np\n",
    "import matplotlib.mlab as mlab\n",
    "from IPython.display import clear_output\n",
    "import matplotlib.pyplot as plt"
   ]
  },
  {
   "cell_type": "code",
   "execution_count": null,
   "metadata": {},
   "outputs": [],
   "source": [
    "bits, radius = 1000, 451\n",
    "#bits, radius = 256, 103\n",
    "\n",
    "p = utils.calculate_probability(bits, radius)\n",
    "\n",
    "sample = 1000000\n",
    "scanner_type = sdmlib.SDM_SCANNER_OPENCL\n",
    "\n",
    "address_space = sdmlib.AddressSpace.init_random(bits, sample)\n",
    "address_space.opencl_init();"
   ]
  },
  {
   "cell_type": "code",
   "execution_count": null,
   "metadata": {},
   "outputs": [],
   "source": [
    "p"
   ]
  },
  {
   "cell_type": "code",
   "execution_count": null,
   "metadata": {},
   "outputs": [],
   "source": [
    "counter = []"
   ]
  },
  {
   "cell_type": "code",
   "execution_count": null,
   "metadata": {},
   "outputs": [],
   "source": [
    "for i in range(100):\n",
    "    if i%100 == 0:\n",
    "        clear_output(wait=True)\n",
    "        print(i)\n",
    "    bs = sdmlib.Bitstring.init_random(bits)\n",
    "    result = address_space.scan_opencl2(bs, radius)\n",
    "    for idx in result:\n",
    "        bs2 = address_space.get_bitstring(idx)\n",
    "        counter.append(bs.distance_to(bs2))"
   ]
  },
  {
   "cell_type": "code",
   "execution_count": null,
   "metadata": {},
   "outputs": [],
   "source": [
    "from math import factorial\n",
    "comb = lambda a, b: factorial(a) // factorial(b) // factorial(a-b)\n",
    "acc = [0]\n",
    "for i in range(radius+1):\n",
    "    acc.append(acc[-1] + comb(bits, i))\n",
    "acc = acc[1:]"
   ]
  },
  {
   "cell_type": "code",
   "execution_count": null,
   "metadata": {},
   "outputs": [],
   "source": [
    "x = []\n",
    "y = []\n",
    "for d in range(0, radius+1):\n",
    "    x.append(d + 0.5)\n",
    "    y.append(((1.0*comb(bits, d)) / acc[radius]))"
   ]
  },
  {
   "cell_type": "code",
   "execution_count": null,
   "metadata": {},
   "outputs": [],
   "source": [
    "plt.figure(figsize=(8, 6), dpi=100)\n",
    "plt.hist(counter, bins=range(0, radius+2), density=True)\n",
    "plt.plot(x, y, 'r', linewidth=2.0)\n",
    "plt.xlim(400, radius+5)\n",
    "plt.ylabel('Probability')\n",
    "plt.xlabel('Distance from the center')\n",
    "plt.show()"
   ]
  },
  {
   "cell_type": "code",
   "execution_count": null,
   "metadata": {},
   "outputs": [],
   "source": [
    "from math import log\n",
    "I = [-log(p)/log(2) if p > 0 else 0 for p in y]"
   ]
  },
  {
   "cell_type": "code",
   "execution_count": null,
   "metadata": {},
   "outputs": [],
   "source": [
    "plt.figure(figsize=(8, 6), dpi=100)\n",
    "plt.plot(x, I, 'r', linewidth=2.0)\n",
    "plt.xlim(420, radius)\n",
    "plt.ylim(0, 15)\n",
    "plt.ylabel('Self information')\n",
    "plt.xlabel('Distance to the center')\n",
    "plt.grid()\n",
    "plt.show()"
   ]
  },
  {
   "cell_type": "code",
   "execution_count": null,
   "metadata": {},
   "outputs": [],
   "source": [
    "plt.figure(figsize=(8, 6), dpi=100)\n",
    "plt.plot(x, [int(p) for p in I], 'r', linewidth=2.0)\n",
    "plt.xlim(420, radius)\n",
    "plt.ylim(0, 15)\n",
    "plt.ylabel('Self information')\n",
    "plt.xlabel('Distance to the center')\n",
    "plt.grid()\n",
    "plt.show()"
   ]
  },
  {
   "cell_type": "code",
   "execution_count": null,
   "metadata": {},
   "outputs": [],
   "source": [
    "I[-1]"
   ]
  },
  {
   "cell_type": "code",
   "execution_count": null,
   "metadata": {},
   "outputs": [],
   "source": [
    "1.0*int(I[420]) / int(I[-1])"
   ]
  },
  {
   "cell_type": "code",
   "execution_count": null,
   "metadata": {},
   "outputs": [],
   "source": [
    "repr([int(p) for p in I])"
   ]
  },
  {
   "cell_type": "code",
   "execution_count": null,
   "metadata": {},
   "outputs": [],
   "source": []
  }
 ],
 "metadata": {
  "kernelspec": {
   "display_name": "Python 3",
   "language": "python",
   "name": "python3"
  },
  "language_info": {
   "codemirror_mode": {
    "name": "ipython",
    "version": 3
   },
   "file_extension": ".py",
   "mimetype": "text/x-python",
   "name": "python",
   "nbconvert_exporter": "python",
   "pygments_lexer": "ipython3",
   "version": "3.6.4"
  }
 },
 "nbformat": 4,
 "nbformat_minor": 2
}
