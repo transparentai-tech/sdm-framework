{
 "cells": [
  {
   "cell_type": "markdown",
   "metadata": {},
   "source": [
    "# Kanerva's Table 7.3 (page 70)"
   ]
  },
  {
   "cell_type": "code",
   "execution_count": null,
   "metadata": {},
   "outputs": [],
   "source": [
    "import sdm as sdmlib\n",
    "from sdm import utils\n",
    "import os\n",
    "import matplotlib.pyplot as plt\n",
    "from IPython.display import clear_output\n",
    "import time\n",
    "%matplotlib inline"
   ]
  },
  {
   "cell_type": "code",
   "execution_count": null,
   "metadata": {},
   "outputs": [],
   "source": [
    "def run(bits, radius, max_iter=1, sample=1000000):\n",
    "    scanner_type = sdmlib.SDM_SCANNER_OPENCL\n",
    "\n",
    "    address_space = sdmlib.AddressSpace.init_random(bits, sample)\n",
    "    counter = sdmlib.Counter.init_zero(bits, sample)\n",
    "    #counter = sdmlib.Counter.create_file('TO-BE-DELETED', bits, sample)\n",
    "    sdm = sdmlib.SDM(address_space, counter, radius, scanner_type)\n",
    "\n",
    "    for i in range(100):\n",
    "        if i%50 == 0:\n",
    "            clear_output(wait=True)\n",
    "            print 'Writing 10,000 random bitstrings... {}'.format(i)\n",
    "        bs = sdmlib.Bitstring.init_random(bits)\n",
    "        sdm.write(bs, bs)\n",
    "\n",
    "    b = sdmlib.Bitstring.init_random(bits)\n",
    "    sdm.write(b, b)\n",
    "\n",
    "    distances = []\n",
    "    x = range(0, bits+1)\n",
    "    t0 = time.time()\n",
    "    for i, dist in enumerate(x):\n",
    "        clear_output(wait=True)\n",
    "        print 'Distance: {:4d} ({:.2f}%)'.format(dist, 100.*(i+1)/len(x))\n",
    "        c = sdmlib.Bitstring.init_from_bitstring(b)\n",
    "        c.flip_random_bits(dist)\n",
    "        assert c.distance_to(b) == dist\n",
    "        d = sdm.iter_read(c, max_iter=max_iter)\n",
    "        distances.append(d.distance_to(b))\n",
    "    t1 = time.time()\n",
    "    print 'Done! {:.2f} seconds'.format(t1-t0)\n",
    "    \n",
    "    return distances"
   ]
  },
  {
   "cell_type": "code",
   "execution_count": null,
   "metadata": {},
   "outputs": [],
   "source": [
    "data = []"
   ]
  },
  {
   "cell_type": "code",
   "execution_count": null,
   "metadata": {},
   "outputs": [],
   "source": [
    "max_iter = 15\n",
    "sample = 1000000\n",
    "\n",
    "for bits in [256]:\n",
    "    radius = utils.calculate_radius(bits)\n",
    "    print 'Radius: ', radius\n",
    "    %time distances = run(bits, radius, max_iter=max_iter, sample=sample)\n",
    "    distances = [(1.0*x)/bits for x in distances]\n",
    "    x = [1.0*x/bits for x in range(len(distances))]\n",
    "    data.append((bits, x, distances))"
   ]
  },
  {
   "cell_type": "code",
   "execution_count": null,
   "metadata": {},
   "outputs": [],
   "source": [
    "plt.figure(figsize=(8, 6), dpi=100)\n",
    "plt.plot(x, x, 'k')\n",
    "for bits, x, distances in data:\n",
    "    plt.plot(x, distances, label=str(bits))\n",
    "x = [1.0*x/1000 for x in range(1000)]\n",
    "plt.plot(x, [0.5]*len(x), 'k:')\n",
    "plt.title('Kanerva\\'s Figure 7.3')\n",
    "plt.ylabel('New distance (after {} read)'.format(max_iter))\n",
    "plt.xlabel('Old distance')\n",
    "plt.legend(bbox_to_anchor=(1.05, 1), loc=2, borderaxespad=0.)\n",
    "plt.grid()\n",
    "plt.axis([0, 1, 0, 1]);"
   ]
  },
  {
   "cell_type": "code",
   "execution_count": null,
   "metadata": {},
   "outputs": [],
   "source": [
    "utils.calculate_radius(256)"
   ]
  },
  {
   "cell_type": "code",
   "execution_count": null,
   "metadata": {},
   "outputs": [],
   "source": [
    "bs = sdmlib.Bitstring.init_random(256)"
   ]
  },
  {
   "cell_type": "code",
   "execution_count": null,
   "metadata": {},
   "outputs": [],
   "source": [
    "bs.to_binary()"
   ]
  },
  {
   "cell_type": "code",
   "execution_count": null,
   "metadata": {},
   "outputs": [],
   "source": [
    "len(_34)"
   ]
  },
  {
   "cell_type": "code",
   "execution_count": null,
   "metadata": {},
   "outputs": [],
   "source": [
    "bs.to_hex()"
   ]
  },
  {
   "cell_type": "code",
   "execution_count": null,
   "metadata": {},
   "outputs": [],
   "source": [
    "256/4"
   ]
  },
  {
   "cell_type": "code",
   "execution_count": null,
   "metadata": {},
   "outputs": [],
   "source": [
    "len(_36)"
   ]
  },
  {
   "cell_type": "code",
   "execution_count": null,
   "metadata": {},
   "outputs": [],
   "source": []
  }
 ],
 "metadata": {
  "kernelspec": {
   "display_name": "Python 2",
   "language": "python",
   "name": "python2"
  },
  "language_info": {
   "codemirror_mode": {
    "name": "ipython",
    "version": 2
   },
   "file_extension": ".py",
   "mimetype": "text/x-python",
   "name": "python",
   "nbconvert_exporter": "python",
   "pygments_lexer": "ipython2",
   "version": "2.7.10"
  }
 },
 "nbformat": 4,
 "nbformat_minor": 2
}
