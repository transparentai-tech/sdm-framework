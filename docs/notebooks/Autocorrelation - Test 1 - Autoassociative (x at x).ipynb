{
 "cells": [
  {
   "cell_type": "code",
   "execution_count": 2,
   "metadata": {},
   "outputs": [],
   "source": [
    "from __future__ import print_function\n",
    "import sdm as sdmlib\n",
    "from sdm import utils\n",
    "import matplotlib.pyplot as plt"
   ]
  },
  {
   "cell_type": "code",
   "execution_count": 3,
   "metadata": {},
   "outputs": [],
   "source": [
    "bits = 1000\n",
    "radius = 451 #utils.calculate_radius(bits)\n",
    "sample = 1000000\n",
    "scanner_type = sdmlib.SDM_SCANNER_OPENCL\n",
    "\n",
    "H = sample\n",
    "p1 = utils.calculate_probability(bits, radius)\n",
    "h = p1*H\n",
    "s = 10000\n",
    "theta = s * h / H\n",
    "\n",
    "print('H', H)\n",
    "print('p1', p1)\n",
    "print('h', h)\n",
    "print('s', s)\n",
    "print('theta', theta)"
   ]
  },
  {
   "cell_type": "code",
   "execution_count": 4,
   "metadata": {},
   "outputs": [],
   "source": [
    "from math import factorial, log, exp\n",
    "binom = lambda a, b: factorial(a) // factorial(b) // factorial(a - b)\n",
    "a = sum(binom(bits-1, k) for k in range(0, radius+1))\n",
    "b = sum(binom(bits, k) for k in range(0, radius+1))\n",
    "#print(a)\n",
    "#print(b)\n",
    "p = 1.0*a/b\n",
    "print('p', p)"
   ]
  },
  {
   "cell_type": "code",
   "execution_count": 5,
   "metadata": {},
   "outputs": [],
   "source": [
    "address_space = sdmlib.AddressSpace.init_random(bits, sample)\n",
    "counter = sdmlib.Counter.init_zero(bits, sample)\n",
    "sdm = sdmlib.SDM(address_space, counter, radius, scanner_type)"
   ]
  },
  {
   "cell_type": "code",
   "execution_count": 6,
   "metadata": {},
   "outputs": [],
   "source": [
    "def write(n=1000, prefix=''):\n",
    "    print('{}Writing {} random bitstrings... '.format(prefix, n), end='')\n",
    "    for i in range(n):\n",
    "        if i%20 == 0:\n",
    "          print('!', end='')\n",
    "        \n",
    "        b1 = sdmlib.Bitstring.init_random(bits)\n",
    "        #b2 = sdmlib.Bitstring.init_random(bits)\n",
    "        sdm.write(b1, b1)\n",
    "    print('')\n",
    "    return n"
   ]
  },
  {
   "cell_type": "code",
   "execution_count": 7,
   "metadata": {},
   "outputs": [],
   "source": [
    "write(s)"
   ]
  },
  {
   "cell_type": "code",
   "execution_count": 30,
   "metadata": {},
   "outputs": [],
   "source": [
    "v1 = []\n",
    "for i in range(sample):\n",
    "    if (i+1)%10000 == 0:\n",
    "        print(i+1, end=' ')\n",
    "    bs1 = address_space.get_bitstring(i)\n",
    "    bs2 = counter.to_bitstring(i)\n",
    "    v1.append(bits - bs1.distance_to(bs2))\n",
    "    \n",
    "    #bs1 = address_space.get_bitstring(i)\n",
    "    #cnt = 0\n",
    "    #for j, x in enumerate(counter.get_counter(i)):\n",
    "    #    b = bs1.get_bit(j)\n",
    "    #    if b == 1 and x >= 0:\n",
    "    #        cnt += 1\n",
    "    #    elif b == 0 and x <= 0:\n",
    "    #        cnt += 1\n",
    "    #v1.append(cnt)"
   ]
  },
  {
   "cell_type": "code",
   "execution_count": null,
   "metadata": {},
   "outputs": [],
   "source": [
    "[(i, x) for i, x in enumerate(v1) if x > 775]"
   ]
  },
  {
   "cell_type": "code",
   "execution_count": null,
   "metadata": {
    "scrolled": false
   },
   "outputs": [],
   "source": [
    "idx = 788\n",
    "bs1 = address_space.get_bitstring(idx)\n",
    "bs2 = counter.to_bitstring(idx)\n",
    "bs_cnt = counter.get_counter(idx)\n",
    "d = bs1.distance_to(bs2)\n",
    "print('bits different', d)\n",
    "print('bits equal', bits-d)\n",
    "print('zeros', bs_cnt.count(0))\n",
    "cnt = 0\n",
    "for i, (a, b, c) in enumerate(zip(bs1.to_binary(), bs2.to_binary(), bs_cnt)):\n",
    "    if c != 0:\n",
    "        if a == b:\n",
    "            cnt += 1\n",
    "    #print('{:4d}'.format(i), a, b, '{:+4}'.format(c), '< {}'.format(cnt) if a != b else '')\n",
    "    #if a != b:\n",
    "    #    cnt += 1\n",
    "print('!!', cnt)"
   ]
  },
  {
   "cell_type": "code",
   "execution_count": 31,
   "metadata": {
    "scrolled": false
   },
   "outputs": [],
   "source": [
    "plt.figure(figsize=(8, 6), dpi=300)\n",
    "bins = plt.hist(v1, bins=range(int(min(v1)), int(max(v1))+1), density=True);\n",
    "mu = 1.0*sum(v1)/len(v1)\n",
    "sigma = (sum((x - mu)**2 for x in v1)/len(v1))**0.5\n",
    "\n",
    "plt.axvline(mu, color='k', label='$\\mu = {:.4f}$'.format(mu))\n",
    "plt.xlabel('Number of counters aligned to the hard location\\'s bits')\n",
    "plt.ylabel('Histogram')\n",
    "#plt.xlim(500, 780)\n",
    "\n",
    "print(mu, sigma**2)\n",
    "\n",
    "tmp_p = 0.6354186414381007\n",
    "mu = tmp_p*1000\n",
    "sigma = tmp_p*(1-tmp_p)*1000\n",
    "sigma = sigma**0.5\n",
    "print(mu, sigma**2)\n",
    "\n",
    "import numpy as np\n",
    "import matplotlib.mlab as mlab\n",
    "#from scipy.stats import binom\n",
    "x_values = np.linspace(min(v1), max(v1)+1, 1000)\n",
    "y_values = mlab.normpdf(x_values, mu, sigma)\n",
    "#x_values = list(range(min(v1), max(v1)+1))\n",
    "#y_values = binom.pmf(x_values, 1000, p)\n",
    "plt.plot([x+0.5 for x in x_values], y_values, 'r', linewidth=2.0, label='Binom($n=1000$, $p={:.4f}$)'.format(tmp_p))\n",
    "\n",
    "plt.legend();"
   ]
  },
  {
   "cell_type": "code",
   "execution_count": null,
   "metadata": {},
   "outputs": [],
   "source": [
    "v2 = []\n",
    "bs1 = sdmlib.Bitstring.init_zeros(bits)\n",
    "for i in range(sample):\n",
    "    bs2 = address_space.get_bitstring(i)\n",
    "    v2.append(bs1.distance_to(bs2))"
   ]
  },
  {
   "cell_type": "code",
   "execution_count": null,
   "metadata": {},
   "outputs": [],
   "source": [
    "plt.figure(figsize=(8, 6), dpi=300)\n",
    "plt.hist(v2, bins='fd', density=True);"
   ]
  },
  {
   "cell_type": "code",
   "execution_count": null,
   "metadata": {},
   "outputs": [],
   "source": [
    "v3 = []\n",
    "for _ in range(100):\n",
    "    bs1 = sdmlib.Bitstring.init_random(bits)\n",
    "    selected = address_space.scan_opencl2(bs1, radius)\n",
    "    for idx in selected:\n",
    "        bs2 = address_space.get_bitstring(idx)\n",
    "        v3.append(bs1.distance_to(bs2))"
   ]
  },
  {
   "cell_type": "code",
   "execution_count": null,
   "metadata": {},
   "outputs": [],
   "source": [
    "plt.figure(figsize=(8, 6), dpi=300)\n",
    "plt.hist(v3, bins=max(v3)-min(v3)+1, density=True);\n",
    "1.0*sum(v3)/len(v3)"
   ]
  },
  {
   "cell_type": "code",
   "execution_count": 10,
   "metadata": {},
   "outputs": [],
   "source": [
    "v4 = []\n",
    "for i in range(1000):\n",
    "    bs1 = address_space.get_bitstring(i)\n",
    "    cnt1 = counter.get_counter(i)\n",
    "    for j in range(bits):\n",
    "        if bs1.get_bit(j) == 1:\n",
    "            v4.append(cnt1[j])"
   ]
  },
  {
   "cell_type": "code",
   "execution_count": 11,
   "metadata": {
    "scrolled": false
   },
   "outputs": [],
   "source": [
    "plt.figure(figsize=(8, 6), dpi=300)\n",
    "\n",
    "mu = 1.0*sum(v4)/len(v4)\n",
    "var = sum((x-mu)**2 for x in v4)/len(v4)\n",
    "bins = plt.hist(v4, bins=range(min(v4), max(v4)+1), density=True, label='$\\mu = {:.4f}$, $\\sigma^2 = {:.4f}$'.format(mu, var));\n",
    "print(1.0*sum(v4)/len(v4))\n",
    "\n",
    "print('len', len(v4))\n",
    "print('zero', v4.count(0))\n",
    "\n",
    "plt.axvline(0, color='k')\n",
    "plt.axvline(1, color='k')\n",
    "plt.xlabel('Value of cnt$_i$ for addr$_i$=1')\n",
    "plt.ylabel('Histogram')\n",
    "\n",
    "mu1 = (2*p - 1) * theta\n",
    "var1 = p * (1 - p) * theta + p*p * s*s/H * p1 * (1-p1)\n",
    "var1 = 4 * var1\n",
    "\n",
    "import numpy as np\n",
    "import matplotlib.mlab as mlab\n",
    "from scipy import stats\n",
    "x_values = np.linspace(-15, 16, 100)\n",
    "y_values = mlab.normpdf(x_values, mu, var1**0.5)\n",
    "plt.plot([x+0.5 for x in x_values], y_values, 'r', linewidth=2.0);\n",
    "print(stats.norm.cdf(0, mu, var1**0.5))\n",
    "\n",
    "plt.grid()\n",
    "plt.legend()"
   ]
  },
  {
   "cell_type": "code",
   "execution_count": 50,
   "metadata": {},
   "outputs": [],
   "source": [
    "import random\n",
    "v5_bs = []\n",
    "v5 = []\n",
    "v6 = []\n",
    "v5_1 = []\n",
    "v5_2 = []\n",
    "k = 0\n",
    "bit_value = 1\n",
    "while k < 2000:\n",
    "    bs1 = sdmlib.Bitstring.init_random(bits)\n",
    "    bit_idx = random.randint(0, bits-1)\n",
    "    v5_bs.append(bs1)\n",
    "    if bs1.get_bit(bit_idx) != bit_value:\n",
    "        continue\n",
    "    if (k+1)%1000 == 0:\n",
    "        print(k+1, end=' ')\n",
    "    k += 1\n",
    "    selected = address_space.scan_opencl2(bs1, radius)\n",
    "    acc = 0\n",
    "    cnt1 = 0\n",
    "    v = []\n",
    "    for idx in selected:\n",
    "        bs2 = address_space.get_bitstring(idx)\n",
    "        if bs2.get_bit(bit_idx) == bit_value:\n",
    "            cnt1 += 1\n",
    "            cnt = counter.counter[idx][bit_idx]\n",
    "            v5_1.append(cnt)\n",
    "            v.append(cnt)\n",
    "            acc += cnt\n",
    "    v5.append(acc)\n",
    "    v5_2.append(v)\n",
    "    v6.append(cnt1)"
   ]
  },
  {
   "cell_type": "code",
   "execution_count": 52,
   "metadata": {},
   "outputs": [],
   "source": [
    "plt.figure(figsize=(8, 6), dpi=300)\n",
    "\n",
    "plt.hist(v5_1, bins=range(min(v5_1), max(v5_1)+1), density=True, alpha=1);\n",
    "\n",
    "plt.xlabel('Value of cnt$_i$ for addr$_i$=1')\n",
    "plt.ylabel('Histogram')\n",
    "\n",
    "print(sum(v5_1), len(v5_1), len(v5))\n",
    "print(1.0*sum(v5_1)/len(v5_1))\n",
    "print(mu1, var1**0.5)\n",
    "\n",
    "plt.axvline(1.0*sum(v5_1)/len(v5_1)+0.5, color='k')\n",
    "\n",
    "import numpy as np\n",
    "import matplotlib.mlab as mlab\n",
    "from scipy import stats\n",
    "x_values = np.linspace(-15, 16, 100)\n",
    "y_values = mlab.normpdf(x_values, mu1, var1**0.5)\n",
    "plt.plot([x+0.5 for x in x_values], y_values, 'r', linewidth=2.0);"
   ]
  },
  {
   "cell_type": "code",
   "execution_count": 53,
   "metadata": {
    "scrolled": false
   },
   "outputs": [],
   "source": [
    "plt.figure(figsize=(8, 6), dpi=300)\n",
    "\n",
    "lo = mu1 - 3*((var1/len(v5_2))**0.5)\n",
    "hi = mu1 + 3*((var1/len(v5_2))**0.5)\n",
    "\n",
    "#print(len(v5_2[3]))\n",
    "max_items = 7\n",
    "cnt = 0\n",
    "for i, v in enumerate(v5_2):\n",
    "    mu = 1.0*sum(v)/len(v)\n",
    "    if lo < mu < hi:\n",
    "        continue\n",
    "    cnt += 1\n",
    "    if max_items == 0:\n",
    "        continue\n",
    "    var = sum((x-mu)**2 for x in v)/len(v)\n",
    "    bins = plt.hist(v, bins=range(min(v), max(v)+1), density=True, alpha=0.2, label='[{}] $\\mu = {:.4f}$, $\\sigma^2 = {:.4f}$'.format(i, mu, var));\n",
    "    max_items -= 1\n",
    "    #print(mu)\n",
    "    #print((2*prob_xi_yi-1) * 10000 * 1071.85 / 1000000)\n",
    "\n",
    "print('cnt', cnt)\n",
    "    \n",
    "plt.axvline(mu1+0.5, color='k')\n",
    "plt.xlabel('Value of cnt$_i$ for addr$_i$=1')\n",
    "plt.ylabel('Histogram')\n",
    "\n",
    "import numpy as np\n",
    "import matplotlib.mlab as mlab\n",
    "from scipy import stats\n",
    "x_values = np.linspace(-15, 16, 100)\n",
    "y_values = mlab.normpdf(x_values, mu1, var1**0.5)\n",
    "plt.plot([x+0.5 for x in x_values], y_values, 'r', linewidth=2.0);\n",
    "\n",
    "print(mu1, var1)\n",
    "\n",
    "plt.legend();"
   ]
  },
  {
   "cell_type": "code",
   "execution_count": 54,
   "metadata": {},
   "outputs": [],
   "source": [
    "for i in range(len(v5)):\n",
    "    assert sum(v5_2[i]) == v5[i]\n",
    "print('Ok!')"
   ]
  },
  {
   "cell_type": "code",
   "execution_count": 55,
   "metadata": {},
   "outputs": [],
   "source": [
    "plt.figure(figsize=(8, 6), dpi=300)\n",
    "\n",
    "idx = 37\n",
    "v = v5_2[idx]\n",
    "print(1.0*sum(v)/len(v), sum(v), len(v))\n",
    "plt.hist(v, bins=range(min(v), max(v)+1), density=True);\n",
    "\n",
    "x_values = np.linspace(-15, 16, 100)\n",
    "y_values = mlab.normpdf(x_values, mu1, var1**0.5)\n",
    "plt.plot([x+0.5 for x in x_values], y_values, 'r', linewidth=2.0);\n",
    "plt.grid()\n",
    "\n",
    "#v.sort()\n",
    "#print(v)\n",
    "print(1.0*v.count(5)/len(v))"
   ]
  },
  {
   "cell_type": "code",
   "execution_count": 56,
   "metadata": {},
   "outputs": [],
   "source": [
    "plt.figure(figsize=(8, 6), dpi=300)\n",
    "\n",
    "mu = 1.0*sum(v5)/len(v5)\n",
    "var = sum((x-mu)**2 for x in v5)/len(v5)\n",
    "bins = plt.hist(v5, bins='fd', density=True, label='$\\mu = {:.2f}$, $\\sigma^2 = {:.2f}$'.format(mu, var));\n",
    "print(mu, var)\n",
    "\n",
    "plt.ylabel('Histogram')\n",
    "\n",
    "if (mu > 0):\n",
    "    # eta_i = 1, addr_i = 1\n",
    "    print('AQUI')\n",
    "    mu2 = mu1 * p*h\n",
    "    var2 = var1 * p * h + mu1*mu1*(h*p*(p-1) + p*p*h*(1-p1))\n",
    "    plt.xlabel('Valur of cnt$_i$ for addr$_i$=1 and $\\eta_i$=1')\n",
    "\n",
    "else:\n",
    "    # eta_i = 1, addr_i = 0\n",
    "    mu2 = -mu1 * (1-p) * h\n",
    "    var2 = var1 * (1-p) * h + mu1 * (h*p*(p-1) + (1-p)*(1-p)*H*p1*(1-p1))\n",
    "    plt.xlabel('Valur of cnt$_i$ for addr$_i$=0 and $\\eta_i$=1')\n",
    "\n",
    "\n",
    "import numpy as np\n",
    "import matplotlib.mlab as mlab\n",
    "x_values = np.linspace(mu2-4*(var2**0.5), mu2+4*(var2**0.5), 1000)\n",
    "y_values = mlab.normpdf(x_values, mu2, var2**0.5)\n",
    "plt.plot(x_values, y_values, 'r', linewidth=2.0, label='N($\\mu={:.2f}, \\sigma^2={:.2f}$)'.format(mu2, var2));\n",
    "\n",
    "plt.grid()\n",
    "print(mu2, var2)\n",
    "plt.legend()"
   ]
  },
  {
   "cell_type": "code",
   "execution_count": null,
   "metadata": {},
   "outputs": [],
   "source": [
    "plt.figure(figsize=(8, 6), dpi=300)\n",
    "# bins=range(min(v6), max(v6)+1)\n",
    "plt.hist(v6, bins='fd', density=True);\n",
    "mu = 1.0*sum(v6)/len(v6)\n",
    "var = sum((x-mu)**2 for x in v6)/len(v6)\n",
    "print(mu, var**0.5)\n",
    "\n",
    "mu = h*p\n",
    "sigma = h*p*(1-p) + p*p*H*p1*(1-p1)\n",
    "sigma = sigma**0.5\n",
    "\n",
    "print('theory', mu, sigma)\n",
    "\n",
    "x_values = np.linspace(min(v6), max(v6)+1, 1000)\n",
    "y_values = mlab.normpdf(x_values, mu, sigma)\n",
    "plt.plot(x_values, y_values, 'r', linewidth=2.0);\n",
    "\n",
    "plt.xlabel('Number of activated hard locations with the same bit as the reading address')\n",
    "plt.ylabel('Histogram')"
   ]
  },
  {
   "cell_type": "code",
   "execution_count": 60,
   "metadata": {},
   "outputs": [],
   "source": [
    "v7 = []\n",
    "v8 = []\n",
    "k = 0\n",
    "while k < 4000:\n",
    "    bs1 = sdmlib.Bitstring.init_random(bits)\n",
    "    bit_idx = random.randint(0, bits-1)\n",
    "    if bs1.get_bit(bit_idx) != 0:\n",
    "        continue\n",
    "    k += 1\n",
    "    selected = address_space.scan_opencl2(bs1, radius)\n",
    "    acc = 0\n",
    "    cnt = 0\n",
    "    for idx in selected:\n",
    "        #bs2 = address_space.get_bitstring(idx)\n",
    "        acc += counter.counter[idx][bit_idx]\n",
    "    v7.append(acc)\n",
    "    v8.append(1.0*cnt/len(selected))"
   ]
  },
  {
   "cell_type": "code",
   "execution_count": 62,
   "metadata": {},
   "outputs": [],
   "source": [
    "plt.figure(figsize=(8, 6), dpi=300)\n",
    "\n",
    "mu = 1.0*sum(v7)/len(v7)\n",
    "var = sum((x-mu)**2 for x in v7)/len(v7)\n",
    "#bins = range(min(v7), max(v7)+1)\n",
    "bins = plt.hist(v7, bins='fd', density=True, label='$\\mu = {:.2f}$, $\\sigma^2 = {:.2f}$'.format(mu, var));\n",
    "print(mu, var)\n",
    "\n",
    "plt.axvline(mu+0.5, color='k')\n",
    "plt.ylabel('Histogram')\n",
    "\n",
    "mu3 = -(2*p-1) * (2*p-1) * theta * h\n",
    "var3 = (var1 * p * h + mu1*mu1*(h*p*(p-1) + p*p*h*(1-p1))) + (var1 * (1-p) * h + mu1*mu1*(h*p*(p-1) + (1-p)*(1-p)*h*(1-p1)))\n",
    "#var3 = 2.4*var3\n",
    "#var3 = 27838.3029124\n",
    "plt.xlabel('Valur of cnt$_i$ for $\\eta_i$=1')\n",
    "\n",
    "import numpy as np\n",
    "import matplotlib.mlab as mlab\n",
    "x_values = np.linspace(mu3-4*(var3**0.5), mu3+4*(var3**0.5), 1000)\n",
    "y_values = mlab.normpdf(x_values, mu3, var3**0.5)\n",
    "plt.plot(x_values, y_values, 'r', linewidth=2.0, label='N($\\mu={:.2f}, \\sigma^2={:.2f}$)'.format(mu3, var3));\n",
    "\n",
    "print(mu3, var3)\n",
    "plt.grid()\n",
    "plt.legend()"
   ]
  },
  {
   "cell_type": "code",
   "execution_count": null,
   "metadata": {},
   "outputs": [],
   "source": [
    "p\n",
    "#sum(x for x, y in zip(bins[0], bins[1]) if y < 0)"
   ]
  },
  {
   "cell_type": "code",
   "execution_count": 25,
   "metadata": {},
   "outputs": [],
   "source": [
    "v9 = []\n",
    "for i in range(2000):\n",
    "    bs1 = sdmlib.Bitstring.init_random(bits)\n",
    "    bs2 = sdm.read(bs1)\n",
    "    v9.append(bs1.distance_to(bs2))"
   ]
  },
  {
   "cell_type": "code",
   "execution_count": 34,
   "metadata": {},
   "outputs": [],
   "source": [
    "plt.figure(figsize=(8, 6), dpi=300)\n",
    "mu = sum(v9)/len(v9)\n",
    "var = sum((x-mu)**2 for x in v9)/len(v9)\n",
    "plt.hist(v9, bins='fd', density=True, label='$\\mu={:.2f}, \\sigma^2={:.2f}$'.format(mu, var));\n",
    "print(mu, var)\n",
    "\n",
    "plt.xlabel('Distance from $\\eta$ and $read(\\eta)$')\n",
    "plt.ylabel('Histogram')\n",
    "\n",
    "tmp_p = 0.22037771219874325\n",
    "#p = 0.1137518032308093\n",
    "#p = 0.1993037279155528\n",
    "mu = 1000*tmp_p\n",
    "sigma = (1000*tmp_p*(1-tmp_p))**0.5\n",
    "\n",
    "print(mu, sigma**2)\n",
    "\n",
    "x_values = np.linspace(mu-4*sigma, mu+4*sigma, 1000)\n",
    "y_values = mlab.normpdf(x_values, mu, sigma)\n",
    "plt.plot(x_values, y_values, 'r', linewidth=2.0, label='N$(\\mu={:.1f}, \\sigma^2={:.1f})$'.format(mu, sigma**2));\n",
    "\n",
    "plt.legend();"
   ]
  },
  {
   "cell_type": "code",
   "execution_count": null,
   "metadata": {},
   "outputs": [],
   "source": [
    "print('oi')"
   ]
  },
  {
   "cell_type": "code",
   "execution_count": null,
   "metadata": {},
   "outputs": [],
   "source": []
  }
 ],
 "metadata": {
  "kernelspec": {
   "display_name": "Python 3",
   "language": "python",
   "name": "python3"
  }
 },
 "nbformat": 4,
 "nbformat_minor": 2
}
