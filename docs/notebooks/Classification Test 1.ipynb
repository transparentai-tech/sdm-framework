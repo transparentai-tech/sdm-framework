{
 "cells": [
  {
   "cell_type": "markdown",
   "metadata": {},
   "source": [
    "# Classification Test #1"
   ]
  },
  {
   "cell_type": "code",
   "execution_count": null,
   "metadata": {},
   "outputs": [],
   "source": [
    "import sdm as sdmlib\n",
    "import matplotlib.pyplot as plt\n",
    "from PIL import Image, ImageDraw, ImageFont\n",
    "import urllib, cStringIO\n",
    "import random\n",
    "from IPython.core.display import display, Image as IPythonImage\n",
    "%matplotlib inline"
   ]
  },
  {
   "cell_type": "code",
   "execution_count": null,
   "metadata": {},
   "outputs": [],
   "source": [
    "width = 30\n",
    "height = 30\n",
    "noise_flip = True"
   ]
  },
  {
   "cell_type": "code",
   "execution_count": null,
   "metadata": {},
   "outputs": [],
   "source": [
    "def gen_img(letter='A'):\n",
    "    img = Image.new('RGBA', (30, 30), (255, 255, 255))\n",
    "    font = ImageFont.truetype('Arial.ttf', 30)\n",
    "    draw = ImageDraw.Draw(img)\n",
    "    draw.text((5, 0), letter, (0, 0, 0), font=font)\n",
    "    return img"
   ]
  },
  {
   "cell_type": "code",
   "execution_count": null,
   "metadata": {},
   "outputs": [],
   "source": [
    "def gen_noise_add(img, p=0.15, flip=False):\n",
    "    img2 = img.copy()\n",
    "    draw = ImageDraw.Draw(img2)\n",
    "    for py in xrange(height):\n",
    "        for px in xrange(width):\n",
    "            if random.random() < p:\n",
    "                if flip:\n",
    "                    pixel = img.getpixel((px, py))\n",
    "                    value = sum([int(x/255+0.5) for x in pixel[:3]])//3\n",
    "                    assert value == 0 or value == 1\n",
    "                    value = (1 - value)*255\n",
    "                    draw.point((px, py), fill=(value, value, value))\n",
    "                else:\n",
    "                    draw.point((px, py), fill=(0, 0, 0))\n",
    "    return img2"
   ]
  },
  {
   "cell_type": "code",
   "execution_count": null,
   "metadata": {},
   "outputs": [],
   "source": [
    "img = gen_img();\n",
    "img2 = gen_noise_add(img, p=0.05, flip=noise_flip)\n",
    "plt.subplot(1, 2, 1)\n",
    "plt.imshow(img)\n",
    "plt.subplot(1, 2, 2)\n",
    "plt.imshow(img2);"
   ]
  },
  {
   "cell_type": "code",
   "execution_count": null,
   "metadata": {},
   "outputs": [],
   "source": [
    "def to_bitstring(img):\n",
    "    v = []\n",
    "    bs = sdmlib.Bitstring.init_ones(1000)\n",
    "    for py in xrange(height):\n",
    "        for px in xrange(width):\n",
    "            pixel = img.getpixel((px, py))\n",
    "            value = sum([int(x/255+0.5) for x in pixel[:3]])//3\n",
    "            assert value == 0 or value == 1\n",
    "            idx = px+width*py\n",
    "            assert idx >= 0 and idx < 1000, 'Ops {} {} {}'.format(x, y, idx)\n",
    "            bs.set_bit(idx, value)\n",
    "            v.append(value)\n",
    "    v2 = [bs.get_bit(i) for i in xrange(height*width)]\n",
    "    assert v == v2\n",
    "    return bs"
   ]
  },
  {
   "cell_type": "code",
   "execution_count": null,
   "metadata": {},
   "outputs": [],
   "source": [
    "def to_img(bs):\n",
    "    img = Image.new('RGBA', (30, 30), (255, 255, 255))\n",
    "    draw = ImageDraw.Draw(img)\n",
    "    for py in xrange(height):\n",
    "        for px in xrange(width):\n",
    "            idx = px+width*py\n",
    "            assert idx >= 0 and idx < 1000, 'Ops {} {} {}'.format(x, y, idx)\n",
    "            x = 255*bs.get_bit(idx)\n",
    "            draw.point((px, py), fill=(x, x, x))\n",
    "    return img"
   ]
  },
  {
   "cell_type": "code",
   "execution_count": null,
   "metadata": {},
   "outputs": [],
   "source": [
    "bits = 1000\n",
    "sample = 1000000\n",
    "scanner_type = sdmlib.SDM_SCANNER_THREAD"
   ]
  },
  {
   "cell_type": "code",
   "execution_count": null,
   "metadata": {},
   "outputs": [],
   "source": [
    "address_space = sdmlib.AddressSpace.init_from_b64_file('sdm-letters.as')\n",
    "counter = sdmlib.Counter.create_file('sdm-classification', bits, sample)\n",
    "sdm = sdmlib.SDM(address_space, counter, 451, scanner_type)"
   ]
  },
  {
   "cell_type": "code",
   "execution_count": null,
   "metadata": {},
   "outputs": [],
   "source": [
    "for i in xrange(100):\n",
    "    print i,\n",
    "    b = sdmlib.Bitstring.init_random(1000)\n",
    "    sdm.write(b, b)"
   ]
  },
  {
   "cell_type": "code",
   "execution_count": null,
   "metadata": {},
   "outputs": [],
   "source": [
    "def fill_memory(letter, label_bs, p=0.1, n=100):\n",
    "    cols = 15\n",
    "    rows = n//cols + 1\n",
    "    plt.figure(figsize=(20,10))\n",
    "    for i in xrange(n):\n",
    "        img = gen_img(letter=letter);\n",
    "        img2 = gen_noise_add(img, p=p, flip=noise_flip)\n",
    "        #display(img2)\n",
    "        plt.subplot(rows, cols, i+1)\n",
    "        plt.imshow(img2)\n",
    "        bs = to_bitstring(img2)\n",
    "        bs.xor(label_bs)\n",
    "        sdm.write(bs, bs)\n",
    "    plt.show()"
   ]
  },
  {
   "cell_type": "code",
   "execution_count": null,
   "metadata": {},
   "outputs": [],
   "source": [
    "def read(letter, label_bs, n=6, p=0.2, radius=None):\n",
    "    n = 7\n",
    "    cols = 15\n",
    "    rows = n//cols + 1\n",
    "    plt.figure(figsize=(20,10))\n",
    "\n",
    "    img = gen_img(letter=letter);\n",
    "    img2 = gen_noise_add(img, p=p, flip=noise_flip)\n",
    "    plt.subplot(rows, cols, 1)\n",
    "    plt.imshow(img2)\n",
    "    \n",
    "    for i in xrange(n):\n",
    "        bs2 = to_bitstring(img2)\n",
    "        bs2.xor(label_bs)\n",
    "        bs3 = sdm.read(bs2, radius=radius)\n",
    "        if bs3 == bs2:\n",
    "            break\n",
    "        bs3.xor(label_bs)\n",
    "        img3 = to_img(bs3)\n",
    "        plt.subplot(rows, cols, i+2)\n",
    "        plt.imshow(img3)\n",
    "        img2 = img3"
   ]
  },
  {
   "cell_type": "code",
   "execution_count": null,
   "metadata": {},
   "outputs": [],
   "source": [
    "labels = list('ABCD8OQ')\n",
    "label_to_bs = {}\n",
    "for x in labels:\n",
    "    label_to_bs[x] = sdmlib.Bitstring.init_random(1000)"
   ]
  },
  {
   "cell_type": "code",
   "execution_count": null,
   "metadata": {
    "scrolled": false
   },
   "outputs": [],
   "source": [
    "for x in labels:\n",
    "    print 'Training for label {}...'.format(x)\n",
    "    fill_memory(x, label_to_bs[x])"
   ]
  },
  {
   "cell_type": "code",
   "execution_count": null,
   "metadata": {},
   "outputs": [],
   "source": [
    "read('C', label_to_bs['C'])\n",
    "read('C', label_to_bs['D'])\n",
    "read('C', label_to_bs['O'])"
   ]
  },
  {
   "cell_type": "code",
   "execution_count": null,
   "metadata": {},
   "outputs": [],
   "source": [
    "read('A', label_to_bs['C'], p=0.1)"
   ]
  },
  {
   "cell_type": "code",
   "execution_count": null,
   "metadata": {},
   "outputs": [],
   "source": [
    "read('A', sdmlib.Bitstring.init_random(1000), p=0)"
   ]
  },
  {
   "cell_type": "code",
   "execution_count": null,
   "metadata": {},
   "outputs": [],
   "source": [
    "def intersection(a, b):\n",
    "    bs1 = to_bitstring(gen_img(letter=a))\n",
    "    bs2 = to_bitstring(gen_img(letter=b))\n",
    "    hl1 = set(address_space.scan_thread(bs1, 451, 4))\n",
    "    hl2 = set(address_space.scan_thread(bs2, 451, 4))\n",
    "    return len(hl1 & hl2)\n",
    "print intersection('B', '8')"
   ]
  },
  {
   "cell_type": "code",
   "execution_count": null,
   "metadata": {},
   "outputs": [],
   "source": []
  },
  {
   "cell_type": "code",
   "execution_count": null,
   "metadata": {},
   "outputs": [],
   "source": []
  },
  {
   "cell_type": "code",
   "execution_count": null,
   "metadata": {},
   "outputs": [],
   "source": []
  },
  {
   "cell_type": "code",
   "execution_count": null,
   "metadata": {},
   "outputs": [],
   "source": []
  }
 ],
 "metadata": {
  "kernelspec": {
   "display_name": "Python 2",
   "language": "python",
   "name": "python2"
  },
  "language_info": {
   "codemirror_mode": {
    "name": "ipython",
    "version": 2
   },
   "file_extension": ".py",
   "mimetype": "text/x-python",
   "name": "python",
   "nbconvert_exporter": "python",
   "pygments_lexer": "ipython2",
   "version": "2.7.10"
  }
 },
 "nbformat": 4,
 "nbformat_minor": 2
}
