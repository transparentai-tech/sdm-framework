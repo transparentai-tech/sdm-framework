{
 "cells": [
  {
   "cell_type": "code",
   "execution_count": null,
   "metadata": {},
   "outputs": [],
   "source": [
    "from __future__ import print_function\n",
    "from IPython.display import clear_output\n",
    "import sdm as sdmlib\n",
    "from sdm import utils\n",
    "from scipy.stats import binom\n",
    "%matplotlib inline"
   ]
  },
  {
   "cell_type": "markdown",
   "metadata": {},
   "source": [
    "* d = distance to the target\n",
    "* h = number of activated hardlocations\n",
    "* s = total stored bitstrings\n",
    "* H = number of hardlocations\n",
    "* w = number of times the target bitstring has been written"
   ]
  },
  {
   "cell_type": "code",
   "execution_count": null,
   "metadata": {},
   "outputs": [],
   "source": [
    "_phi_fn_cache = {}"
   ]
  },
  {
   "cell_type": "code",
   "execution_count": null,
   "metadata": {},
   "outputs": [],
   "source": [
    "def phi_fn(n, H, r, d, steps=500):\n",
    "    key = (n, H, r, d, steps)\n",
    "    if key in _phi_fn_cache:\n",
    "        return _phi_fn_cache[key]\n",
    "    v = []\n",
    "    for _ in range(steps):\n",
    "        bs1 = sdmlib.Bitstring.init_random(n)\n",
    "        bs2 = bs1.copy()\n",
    "        bs2.flip_random_bits(d)\n",
    "        selected1 = address_space.scan_thread2(bs1, r)\n",
    "        selected2 = address_space.scan_thread2(bs2, r)\n",
    "        x = len(set(selected1) & set(selected2))\n",
    "        v.append(x)\n",
    "    mu = 1.0*sum(v)/len(v)\n",
    "    _phi_fn_cache[key] = mu\n",
    "    return mu"
   ]
  },
  {
   "cell_type": "code",
   "execution_count": null,
   "metadata": {},
   "outputs": [],
   "source": [
    "def prob_wrong_bit0(h, H, s, w, d, phi, theta):\n",
    "    x = 1.0*s*h*h/(2*H)\n",
    "    return 1 - binom.cdf(x, theta, 0.5)"
   ]
  },
  {
   "cell_type": "code",
   "execution_count": null,
   "metadata": {},
   "outputs": [],
   "source": [
    "def prob_wrong_bit1(h, H, s, w, d, phi, theta):\n",
    "    x = s*h*h/(2*H)-w*phi\n",
    "    return binom.cdf(x, theta, 0.5)"
   ]
  },
  {
   "cell_type": "code",
   "execution_count": null,
   "metadata": {},
   "outputs": [],
   "source": [
    "def prob_wrong(n, h, H, s, w, d, phi_steps=500):\n",
    "    phi = phi_fn(n, H, r, d, steps=phi_steps)\n",
    "    theta = 1.0*s*h*h/H - w*phi\n",
    "    p0 = prob_wrong_bit0(h, H, s, w, d, phi, theta)\n",
    "    p1 = prob_wrong_bit1(h, H, s, w, d, phi, theta)\n",
    "    return (p0+p1)/2.0"
   ]
  },
  {
   "cell_type": "code",
   "execution_count": null,
   "metadata": {},
   "outputs": [],
   "source": [
    "n = 1000\n",
    "r = 451\n",
    "H = 1000000\n",
    "s = 10000\n",
    "w = 1\n",
    "phi_steps=5"
   ]
  },
  {
   "cell_type": "code",
   "execution_count": null,
   "metadata": {},
   "outputs": [],
   "source": [
    "p = utils.calculate_probability(n, r)\n",
    "h = p*H\n",
    "address_space = sdmlib.AddressSpace.init_random(n, H)"
   ]
  },
  {
   "cell_type": "code",
   "execution_count": null,
   "metadata": {
    "scrolled": false
   },
   "outputs": [],
   "source": [
    "distances = list(range(0, n+1))\n",
    "y_values = []\n",
    "err_values = []\n",
    "for d in distances:\n",
    "    clear_output(wait=True)\n",
    "    print('Calculating for d={}... '.format(d), end='')\n",
    "    y = prob_wrong(n=n, h=h, H=H, s=s, w=w, d=d, phi_steps=phi_steps)\n",
    "    err = abs(y - 1.0*d/n)\n",
    "    print(y, err)\n",
    "    y_values.append(y)\n",
    "    err_values.append(err)"
   ]
  },
  {
   "cell_type": "code",
   "execution_count": null,
   "metadata": {},
   "outputs": [],
   "source": [
    "import matplotlib.pyplot as plt\n",
    "plt.figure(figsize=(6, 6), dpi=300)\n",
    "plt.plot(distances, [n*y for y in y_values])\n",
    "plt.plot(distances, distances, 'k')\n",
    "plt.plot(distances, [n//2 for _ in distances], 'k:')\n",
    "plt.xlim(0, n)\n",
    "plt.ylim(0, n)\n",
    "plt.show()"
   ]
  },
  {
   "cell_type": "code",
   "execution_count": null,
   "metadata": {},
   "outputs": [],
   "source": [
    "mid = 209\n",
    "import matplotlib.pyplot as plt\n",
    "plt.figure(figsize=(6, 6), dpi=300)\n",
    "plt.plot(distances, [n*y for y in y_values])\n",
    "plt.plot(distances, distances, 'k')\n",
    "plt.plot(distances, [n//2 for _ in distances], 'k:')\n",
    "plt.xlim(mid-30, mid+30)\n",
    "plt.ylim(0, n)\n",
    "plt.show()"
   ]
  },
  {
   "cell_type": "code",
   "execution_count": null,
   "metadata": {},
   "outputs": [],
   "source": [
    "import matplotlib.pyplot as plt\n",
    "plt.figure(figsize=(8, 6), dpi=300)\n",
    "plt.plot(distances[:n//2+1], err_values[:n//2+1])\n",
    "plt.show()"
   ]
  },
  {
   "cell_type": "code",
   "execution_count": null,
   "metadata": {},
   "outputs": [],
   "source": []
  }
 ],
 "metadata": {
  "kernelspec": {
   "display_name": "Python 3",
   "language": "python",
   "name": "python3"
  },
  "language_info": {
   "codemirror_mode": {
    "name": "ipython",
    "version": 2
   },
   "file_extension": ".py",
   "mimetype": "text/x-python",
   "name": "python",
   "nbconvert_exporter": "python",
   "pygments_lexer": "ipython2",
   "version": "2.7.10"
  }
 },
 "nbformat": 4,
 "nbformat_minor": 2
}
