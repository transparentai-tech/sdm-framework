{
 "cells": [
  {
   "cell_type": "code",
   "execution_count": null,
   "metadata": {},
   "outputs": [],
   "source": [
    "import sdm as sdmlib\n",
    "import matplotlib.pyplot as plt\n",
    "%matplotlib inline"
   ]
  },
  {
   "cell_type": "code",
   "execution_count": null,
   "metadata": {},
   "outputs": [],
   "source": [
    "bits = 1000\n",
    "sample = 1000000\n",
    "radius = 451\n",
    "scanner_type = sdmlib.SDM_SCANNER_THREAD"
   ]
  },
  {
   "cell_type": "code",
   "execution_count": null,
   "metadata": {},
   "outputs": [],
   "source": [
    "address_space = sdmlib.AddressSpace.init_random(bits, sample)\n",
    "counter = sdmlib.Counter.init_zero(bits, sample)\n",
    "sdm = sdmlib.SDM(address_space, counter, radius, scanner_type)"
   ]
  },
  {
   "cell_type": "code",
   "execution_count": null,
   "metadata": {},
   "outputs": [],
   "source": [
    "sdm.write_random_bitstrings(10000)"
   ]
  },
  {
   "cell_type": "code",
   "execution_count": null,
   "metadata": {},
   "outputs": [],
   "source": [
    "b = sdmlib.Bitstring.init_random(1000)\n",
    "sdm.write(b, b)"
   ]
  },
  {
   "cell_type": "code",
   "execution_count": null,
   "metadata": {},
   "outputs": [],
   "source": [
    "from IPython.display import clear_output\n",
    "def run(prefix=''):\n",
    "    distances = []\n",
    "    x = range(0, 1001)\n",
    "    for i, dist in enumerate(x):\n",
    "        clear_output(wait=True)\n",
    "        print '{}Distance: {:4d} ({:.2f}%)'.format(prefix, dist, 100.*(i+1)/len(x))\n",
    "        c = sdmlib.Bitstring.init_from_bitstring(b)\n",
    "        c.flip_random_bits(dist)\n",
    "        assert c.distance_to(b) == dist\n",
    "        d = sdm.read(c)\n",
    "        distances.append(d.distance_to(b))\n",
    "    print 'Done!'\n",
    "    return distances"
   ]
  },
  {
   "cell_type": "code",
   "execution_count": null,
   "metadata": {},
   "outputs": [],
   "source": [
    "distances = []\n",
    "killed = 0\n",
    "start = 900000\n",
    "end = 1000000\n",
    "step = 10000"
   ]
  },
  {
   "cell_type": "code",
   "execution_count": null,
   "metadata": {},
   "outputs": [],
   "source": [
    "distances.append((killed, run()))"
   ]
  },
  {
   "cell_type": "code",
   "execution_count": null,
   "metadata": {},
   "outputs": [],
   "source": [
    "import random\n",
    "order = range(1000000)\n",
    "random.shuffle(order)"
   ]
  },
  {
   "cell_type": "code",
   "execution_count": null,
   "metadata": {},
   "outputs": [],
   "source": [
    "while killed < start:\n",
    "    sdm.reset_hardlocation(order[killed])\n",
    "    killed += 1"
   ]
  },
  {
   "cell_type": "code",
   "execution_count": null,
   "metadata": {},
   "outputs": [],
   "source": [
    "print killed"
   ]
  },
  {
   "cell_type": "code",
   "execution_count": null,
   "metadata": {},
   "outputs": [],
   "source": [
    "while killed < end:\n",
    "    cur = killed\n",
    "    while killed < cur + step:\n",
    "        sdm.reset_hardlocation(order[killed])\n",
    "        killed += 1\n",
    "    distances.append((killed, run('[{}] '.format(killed))))"
   ]
  },
  {
   "cell_type": "code",
   "execution_count": null,
   "metadata": {},
   "outputs": [],
   "source": [
    "x = range(0, 1001)\n",
    "plt.figure(figsize=(8, 6), dpi=100)\n",
    "for killed, dist in [distances[0]] + distances[1:]:\n",
    "    plt.plot(x, dist, label=str(killed), alpha=0.7)\n",
    "plt.plot(x, x, 'k')\n",
    "plt.plot(x, [500]*len(x), 'k:')\n",
    "plt.title('Effect of hard-location reset')\n",
    "plt.ylabel('New distance (after 15 iterative reads)')\n",
    "plt.xlabel('Old distance')\n",
    "plt.grid()\n",
    "plt.legend(bbox_to_anchor=(1.05, 1), loc=2, borderaxespad=0.)\n",
    "plt.axis([0, 1000, 0, 1000]);"
   ]
  },
  {
   "cell_type": "code",
   "execution_count": null,
   "metadata": {},
   "outputs": [],
   "source": []
  }
 ],
 "metadata": {
  "kernelspec": {
   "display_name": "Python 2",
   "language": "python",
   "name": "python2"
  },
  "language_info": {
   "codemirror_mode": {
    "name": "ipython",
    "version": 2
   },
   "file_extension": ".py",
   "mimetype": "text/x-python",
   "name": "python",
   "nbconvert_exporter": "python",
   "pygments_lexer": "ipython2",
   "version": "2.7.10"
  }
 },
 "nbformat": 4,
 "nbformat_minor": 2
}
