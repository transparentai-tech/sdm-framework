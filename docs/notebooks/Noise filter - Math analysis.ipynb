{
 "cells": [
  {
   "cell_type": "code",
   "execution_count": null,
   "metadata": {},
   "outputs": [],
   "source": [
    "from scipy.stats import binom\n",
    "import sdm as sdmlib\n",
    "import matplotlib.pyplot as plt"
   ]
  },
  {
   "cell_type": "code",
   "execution_count": null,
   "metadata": {},
   "outputs": [],
   "source": [
    "_phi_fn_cache = {}\n",
    "def phi_fn(n, H, r, d, steps=500):\n",
    "    key = (n, H, r, d, steps)\n",
    "    if key in _phi_fn_cache:\n",
    "        return _phi_fn_cache[key]\n",
    "    v = []\n",
    "    for _ in range(steps):\n",
    "        bs1 = sdmlib.Bitstring.init_random(n)\n",
    "        bs2 = bs1.copy()\n",
    "        bs2.flip_random_bits(d)\n",
    "        selected1 = address_space.scan_opencl2(bs1, r)\n",
    "        selected2 = address_space.scan_opencl2(bs2, r)\n",
    "        x = len(set(selected1) & set(selected2))\n",
    "        v.append(x)\n",
    "    mu = 1.0*sum(v)/len(v)\n",
    "    _phi_fn_cache[key] = mu\n",
    "    return mu"
   ]
  },
  {
   "cell_type": "code",
   "execution_count": null,
   "metadata": {},
   "outputs": [],
   "source": [
    "n = 1000\n",
    "sample = 1000000\n",
    "r = 451\n",
    "\n",
    "address_space = sdmlib.AddressSpace.init_random(n, sample)\n",
    "address_space.opencl_init()"
   ]
  },
  {
   "cell_type": "code",
   "execution_count": null,
   "metadata": {},
   "outputs": [],
   "source": [
    "training_set = 200\n",
    "training_noise = 0.15\n",
    "training_value = training_set*(1-2*training_noise)"
   ]
  },
  {
   "cell_type": "code",
   "execution_count": null,
   "metadata": {},
   "outputs": [],
   "source": [
    "training_shared"
   ]
  },
  {
   "cell_type": "code",
   "execution_count": null,
   "metadata": {},
   "outputs": [],
   "source": [
    "activated_hls = phi_fn(n, sample, r, 0, steps=200)"
   ]
  },
  {
   "cell_type": "code",
   "execution_count": null,
   "metadata": {},
   "outputs": [],
   "source": [
    "activated_hls = int(activated_hls+0.5)"
   ]
  },
  {
   "cell_type": "code",
   "execution_count": null,
   "metadata": {},
   "outputs": [],
   "source": [
    "x_values = range(40, 51)\n",
    "y_values = []\n",
    "for x in x_values:\n",
    "    dist = int(x*n/100.0)\n",
    "    shared = phi_fn(n, sample, r, dist, steps=250)\n",
    "    shared = int(shared+0.5)\n",
    "    print(x, training_value, shared, training_value*shared, activated_hls - shared)\n",
    "    y = binom.cdf(training_value*shared, activated_hls - shared, 0.5)\n",
    "    y_values.append(y)"
   ]
  },
  {
   "cell_type": "code",
   "execution_count": null,
   "metadata": {},
   "outputs": [],
   "source": [
    "plt.figure(figsize=(6, 6), dpi=300)\n",
    "plt.plot(x_values, y_values)\n",
    "plt.grid()\n",
    "\n"
   ]
  },
  {
   "cell_type": "code",
   "execution_count": null,
   "metadata": {},
   "outputs": [],
   "source": [
    "y_values"
   ]
  },
  {
   "cell_type": "code",
   "execution_count": null,
   "metadata": {},
   "outputs": [],
   "source": []
  }
 ],
 "metadata": {
  "kernelspec": {
   "display_name": "Python 3",
   "language": "python",
   "name": "python3"
  },
  "language_info": {
   "codemirror_mode": {
    "name": "ipython",
    "version": 3
   },
   "file_extension": ".py",
   "mimetype": "text/x-python",
   "name": "python",
   "nbconvert_exporter": "python",
   "pygments_lexer": "ipython3",
   "version": "3.6.4"
  }
 },
 "nbformat": 4,
 "nbformat_minor": 2
}
