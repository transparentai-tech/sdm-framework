{
 "cells": [
  {
   "cell_type": "code",
   "execution_count": null,
   "metadata": {},
   "outputs": [],
   "source": [
    "from __future__ import print_function\n",
    "import sdm as sdmlib\n",
    "from sdm import utils\n",
    "import numpy as np\n",
    "import matplotlib.mlab as mlab\n",
    "from IPython.display import clear_output\n",
    "import matplotlib.pyplot as plt"
   ]
  },
  {
   "cell_type": "code",
   "execution_count": null,
   "metadata": {},
   "outputs": [],
   "source": [
    "#bits, radius = 1000, 451\n",
    "bits, radius = 256, 103\n",
    "p = utils.calculate_probability(bits, radius)\n",
    "#p = 0.00107185004892\n",
    "\n",
    "sample = 1000000\n",
    "scanner_type = sdmlib.SDM_SCANNER_OPENCL\n",
    "\n",
    "address_space = sdmlib.AddressSpace.init_random(bits, sample)\n",
    "address_space.opencl_init();"
   ]
  },
  {
   "cell_type": "code",
   "execution_count": null,
   "metadata": {},
   "outputs": [],
   "source": [
    "p"
   ]
  },
  {
   "cell_type": "code",
   "execution_count": null,
   "metadata": {},
   "outputs": [],
   "source": [
    "counter = []"
   ]
  },
  {
   "cell_type": "code",
   "execution_count": null,
   "metadata": {},
   "outputs": [],
   "source": [
    "for i in range(10000):\n",
    "    if i%100 == 0:\n",
    "        clear_output(wait=True)\n",
    "        print(i)\n",
    "    bs = sdmlib.Bitstring.init_random(bits)\n",
    "    result = address_space.scan_opencl2(bs, radius)\n",
    "    counter.append(len(result))"
   ]
  },
  {
   "cell_type": "code",
   "execution_count": null,
   "metadata": {},
   "outputs": [],
   "source": [
    "mu = sample*p\n",
    "sigma = (sample*p*(1-p))**(0.5)\n",
    "x = np.linspace(0, 2000, 2000)\n",
    "y = mlab.normpdf(x, mu, sigma)\n",
    "print(mu)\n",
    "print(sigma)"
   ]
  },
  {
   "cell_type": "code",
   "execution_count": null,
   "metadata": {},
   "outputs": [],
   "source": [
    "plt.figure(figsize=(8, 6), dpi=100)\n",
    "plt.hist(counter, bins=50, density=True)\n",
    "label = u'$\\mu={:.2f}$, $\\sigma={:.2f}$'.format(mu, sigma)\n",
    "plt.plot(x, y, 'r', linewidth=2.0, label=label)\n",
    "plt.xlim(mu-4.5*sigma, mu+4.5*sigma)\n",
    "plt.legend()\n",
    "plt.show()"
   ]
  },
  {
   "cell_type": "code",
   "execution_count": null,
   "metadata": {},
   "outputs": [],
   "source": []
  }
 ],
 "metadata": {
  "kernelspec": {
   "display_name": "Python 2",
   "language": "python",
   "name": "python2"
  },
  "language_info": {
   "codemirror_mode": {
    "name": "ipython",
    "version": 2
   },
   "file_extension": ".py",
   "mimetype": "text/x-python",
   "name": "python",
   "nbconvert_exporter": "python",
   "pygments_lexer": "ipython2",
   "version": "2.7.10"
  }
 },
 "nbformat": 4,
 "nbformat_minor": 2
}
