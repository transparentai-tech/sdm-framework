{
 "cells": [
  {
   "cell_type": "code",
   "execution_count": null,
   "metadata": {},
   "outputs": [],
   "source": [
    "from __future__ import print_function\n",
    "import sdm as sdmlib\n",
    "import matplotlib.pyplot as plt\n",
    "%matplotlib inline"
   ]
  },
  {
   "cell_type": "code",
   "execution_count": null,
   "metadata": {},
   "outputs": [],
   "source": [
    "bits = 1000\n",
    "sample = 1000000\n",
    "radius = 451\n",
    "scanner_type = sdmlib.SDM_SCANNER_THREAD"
   ]
  },
  {
   "cell_type": "code",
   "execution_count": null,
   "metadata": {},
   "outputs": [],
   "source": [
    "def write_sequence(sdms, bs_list):\n",
    "    n = len(bs_list)\n",
    "    for k in range(1, n+1):\n",
    "        for i in range(n-k):\n",
    "            print('Writing {} -> {} into sdm {}'.format(i, i+k, k-1))\n",
    "            sdms[k-1].write(bs_list[i], bs_list[i+k])"
   ]
  },
  {
   "cell_type": "code",
   "execution_count": null,
   "metadata": {},
   "outputs": [],
   "source": [
    "address_space = sdmlib.AddressSpace.init_random(bits, sample)"
   ]
  },
  {
   "cell_type": "code",
   "execution_count": null,
   "metadata": {},
   "outputs": [],
   "source": [
    "bitstrings = {}\n",
    "for x in ['A', 'B', 'C', 'D', 'E', 'F']:\n",
    "    bitstrings[x] = sdmlib.Bitstring.init_random(bits)"
   ]
  },
  {
   "cell_type": "code",
   "execution_count": null,
   "metadata": {},
   "outputs": [],
   "source": [
    "def get_bs_sequence(seq):\n",
    "    v = []\n",
    "    for x in seq:\n",
    "        v.append(bitstrings[x])\n",
    "    return v"
   ]
  },
  {
   "cell_type": "code",
   "execution_count": null,
   "metadata": {},
   "outputs": [],
   "source": [
    "counter1 = sdmlib.Counter.create_file('seq-c1', bits, sample)\n",
    "sdm1 = sdmlib.SDM(address_space, counter1, radius, scanner_type)"
   ]
  },
  {
   "cell_type": "code",
   "execution_count": null,
   "metadata": {},
   "outputs": [],
   "source": [
    "counter2 = sdmlib.Counter.create_file('seq-c2', bits, sample)\n",
    "sdm2 = sdmlib.SDM(address_space, counter2, radius, scanner_type)"
   ]
  },
  {
   "cell_type": "code",
   "execution_count": null,
   "metadata": {},
   "outputs": [],
   "source": [
    "counter3 = sdmlib.Counter.create_file('seq-c3', bits, sample)\n",
    "sdm3 = sdmlib.SDM(address_space, counter3, radius, scanner_type)"
   ]
  },
  {
   "cell_type": "code",
   "execution_count": null,
   "metadata": {},
   "outputs": [],
   "source": [
    "write_sequence([sdm1, sdm2, sdm3], get_bs_sequence('ABCD'))"
   ]
  },
  {
   "cell_type": "code",
   "execution_count": null,
   "metadata": {},
   "outputs": [],
   "source": [
    "write_sequence([sdm1, sdm2, sdm3], get_bs_sequence('EBCF'))"
   ]
  },
  {
   "cell_type": "code",
   "execution_count": null,
   "metadata": {},
   "outputs": [],
   "source": [
    "def read_sequence(sdms, bs_list):\n",
    "    n = len(bs_list)\n",
    "    counters = []\n",
    "    for i in range(n):\n",
    "        print('Reading {} from sdm {}'.format(i, n-i-1))\n",
    "        c = sdms[n-i-1].read_counter(bs_list[i])\n",
    "        counters.append(c)\n",
    "    final = sdmlib.Counter.init_zero(bits, 1)\n",
    "    for c in counters:\n",
    "        final.add_counter(0, c, 0)\n",
    "    bs_final = final.to_bitstring(0)\n",
    "    return bs_final"
   ]
  },
  {
   "cell_type": "code",
   "execution_count": null,
   "metadata": {},
   "outputs": [],
   "source": [
    "def calculate_distances(ref):\n",
    "    v = [(x.distance_to(ref), key) for key, x in bitstrings.iteritems()]\n",
    "    v.sort(key=lambda x: x[0])\n",
    "    return v"
   ]
  },
  {
   "cell_type": "code",
   "execution_count": null,
   "metadata": {},
   "outputs": [],
   "source": [
    "bs_final = read_sequence([sdm1, sdm2, sdm3], get_bs_sequence('ABC'))"
   ]
  },
  {
   "cell_type": "code",
   "execution_count": null,
   "metadata": {},
   "outputs": [],
   "source": [
    "for d, x in calculate_distances(bs_final):\n",
    "    print('{:4d} {}'.format(d, x))"
   ]
  },
  {
   "cell_type": "code",
   "execution_count": null,
   "metadata": {},
   "outputs": [],
   "source": [
    "bs_final2 = read_sequence([sdm1, sdm2, sdm3], get_bs_sequence('EBC'))"
   ]
  },
  {
   "cell_type": "code",
   "execution_count": null,
   "metadata": {},
   "outputs": [],
   "source": [
    "for d, x in calculate_distances(bs_final2):\n",
    "    print('{:4d} {}'.format(d, x))"
   ]
  },
  {
   "cell_type": "code",
   "execution_count": null,
   "metadata": {},
   "outputs": [],
   "source": []
  }
 ],
 "metadata": {
  "kernelspec": {
   "display_name": "Python 2",
   "language": "python",
   "name": "python2"
  },
  "language_info": {
   "codemirror_mode": {
    "name": "ipython",
    "version": 2
   },
   "file_extension": ".py",
   "mimetype": "text/x-python",
   "name": "python",
   "nbconvert_exporter": "python",
   "pygments_lexer": "ipython2",
   "version": "2.7.10"
  }
 },
 "nbformat": 4,
 "nbformat_minor": 2
}
