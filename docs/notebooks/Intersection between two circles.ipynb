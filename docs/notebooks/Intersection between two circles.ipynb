{
 "cells": [
  {
   "cell_type": "code",
   "execution_count": null,
   "metadata": {},
   "outputs": [],
   "source": [
    "from __future__ import print_function\n",
    "from collections import defaultdict\n",
    "from math import factorial\n",
    "import sdm as sdmlib"
   ]
  },
  {
   "cell_type": "code",
   "execution_count": null,
   "metadata": {},
   "outputs": [],
   "source": [
    "bits = 1000\n",
    "sample = 1000000\n",
    "radius = 451"
   ]
  },
  {
   "cell_type": "code",
   "execution_count": null,
   "metadata": {},
   "outputs": [],
   "source": [
    "_comb_cache = {}\n",
    "def comb(a, b):\n",
    "    if a < 0:\n",
    "        return 0\n",
    "    if b == 0:\n",
    "        return 1\n",
    "    ret = _comb_cache.get((a, b), None)\n",
    "    if ret is None:\n",
    "        ret = comb(a-1, b) + comb(a-1, b-1)\n",
    "        _comb_cache[(a, b)] = ret\n",
    "    return ret\n",
    "\n",
    "def comb(a, b):\n",
    "    return factorial(a) // factorial(b) // factorial(a-b)"
   ]
  },
  {
   "cell_type": "code",
   "execution_count": null,
   "metadata": {},
   "outputs": [],
   "source": [
    "def genM(n, h):\n",
    "    M = defaultdict(int)\n",
    "    for i in range(n):\n",
    "        x = h+i\n",
    "        y = i\n",
    "        if 0 <= x < n and 0 <= y < n:\n",
    "            M[(x, y)] = comb(n-h, i)\n",
    "\n",
    "        x = h-i\n",
    "        y = i\n",
    "        if 0 <= x < n and 0 <= y < n:\n",
    "            M[(x, y)] = comb(h, i)\n",
    "\n",
    "    for j in range(1, h+1):\n",
    "        mult = M[(h-j, j)]\n",
    "        for i in range(1, n):\n",
    "            x = h+i\n",
    "            y = i\n",
    "            nx = x - j\n",
    "            ny = y + j\n",
    "\n",
    "            if 0 <= x < n and 0 <= y < n and 0 <= nx < n and 0 <= ny < n:\n",
    "                #print('i={} j={} ({}, {}) ({}, {})'.format(i, j, x, y, nx, ny))\n",
    "                M[(nx, ny)] = mult * M[(x, y)]\n",
    "\n",
    "    return M"
   ]
  },
  {
   "cell_type": "code",
   "execution_count": null,
   "metadata": {},
   "outputs": [],
   "source": [
    "def printM(M):\n",
    "    for i in range(n):\n",
    "        for j in range(n):\n",
    "            y = n-1-i\n",
    "            x = j\n",
    "            if (M[(x, y)]):\n",
    "                print('{:3d}'.format(M[(x, y)]), end=' ')\n",
    "            else:\n",
    "                print('   ', end=' ')\n",
    "        print('')"
   ]
  },
  {
   "cell_type": "code",
   "execution_count": null,
   "metadata": {},
   "outputs": [],
   "source": [
    "def phi2_fn(bits, sample, radius, d):\n",
    "    total = 0\n",
    "    M = genM(bits, d)\n",
    "    for i in range(radius+1):\n",
    "        for j in range(radius+1):\n",
    "            total += M[(i, j)]\n",
    "    return 1.0 * sample * total / (2**bits)"
   ]
  },
  {
   "cell_type": "code",
   "execution_count": null,
   "metadata": {},
   "outputs": [],
   "source": [
    "_phi_fn_cache = {}"
   ]
  },
  {
   "cell_type": "code",
   "execution_count": null,
   "metadata": {},
   "outputs": [],
   "source": [
    "def phi_fn(n, H, r, d, steps=500):\n",
    "    key = (n, H, r, d, steps)\n",
    "    if key in _phi_fn_cache:\n",
    "        return _phi_fn_cache[key]\n",
    "    v = []\n",
    "    for _ in range(steps):\n",
    "        bs1 = sdmlib.Bitstring.init_random(n)\n",
    "        bs2 = bs1.copy()\n",
    "        bs2.flip_random_bits(d)\n",
    "        selected1 = address_space.scan_thread2(bs1, r)\n",
    "        selected2 = address_space.scan_thread2(bs2, r)\n",
    "        x = len(set(selected1) & set(selected2))\n",
    "        v.append(x)\n",
    "    mu = 1.0*sum(v)/len(v)\n",
    "    _phi_fn_cache[key] = mu\n",
    "    return mu"
   ]
  },
  {
   "cell_type": "code",
   "execution_count": null,
   "metadata": {},
   "outputs": [],
   "source": [
    "address_space = sdmlib.AddressSpace.init_random(bits, sample)"
   ]
  },
  {
   "cell_type": "code",
   "execution_count": null,
   "metadata": {},
   "outputs": [],
   "source": [
    "h = 102\n",
    "a = phi_fn(bits, sample, radius, h, steps=200)\n",
    "b = phi2_fn(bits, sample, radius, h)\n",
    "(a, b, a-b)"
   ]
  },
  {
   "cell_type": "code",
   "execution_count": null,
   "metadata": {},
   "outputs": [],
   "source": []
  },
  {
   "cell_type": "code",
   "execution_count": null,
   "metadata": {},
   "outputs": [],
   "source": [
    "for h in range(0, 1001):\n",
    "    a = phi_fn(bits, sample, radius, h, steps=20)\n",
    "    b = phi2_fn(bits, sample, radius, h)\n",
    "    print('{} {} {}'.format(a, b, abs(a-b)))"
   ]
  },
  {
   "cell_type": "code",
   "execution_count": null,
   "metadata": {},
   "outputs": [],
   "source": []
  }
 ],
 "metadata": {
  "kernelspec": {
   "display_name": "Python 3",
   "language": "python",
   "name": "python3"
  },
  "language_info": {
   "codemirror_mode": {
    "name": "ipython",
    "version": 2
   },
   "file_extension": ".py",
   "mimetype": "text/x-python",
   "name": "python",
   "nbconvert_exporter": "python",
   "pygments_lexer": "ipython2",
   "version": "2.7.10"
  }
 },
 "nbformat": 4,
 "nbformat_minor": 2
}
