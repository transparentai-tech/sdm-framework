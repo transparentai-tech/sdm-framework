{
 "cells": [
  {
   "cell_type": "code",
   "execution_count": null,
   "metadata": {},
   "outputs": [],
   "source": [
    "import sdm as sdmlib\n",
    "import matplotlib.pyplot as plt\n",
    "import time\n",
    "from collections import defaultdict, OrderedDict\n",
    "from IPython.display import clear_output\n",
    "%matplotlib inline"
   ]
  },
  {
   "cell_type": "code",
   "execution_count": null,
   "metadata": {},
   "outputs": [],
   "source": [
    "class Timer(object):\n",
    "    def __init__(self):\n",
    "        self.stats = OrderedDict()\n",
    "        self.current_stats = None\n",
    "        \n",
    "    def start(self, key, name):\n",
    "        self.current_stats = {\n",
    "            'name': name,\n",
    "            't0_loops': [],\n",
    "            't0': time.time(),\n",
    "        }\n",
    "        self.stats[key] = self.current_stats\n",
    "        self.t0 = time.time()\n",
    "        \n",
    "    def measure_loop(self):\n",
    "        self.current_stats['t0_loops'].append(time.time())\n",
    "        \n",
    "    def end(self):\n",
    "        d = self.current_stats\n",
    "        d['dt'] = time.time() - d['t0']\n",
    "        if d['t0_loops']:\n",
    "            d['number-of-loops'] = len(d['t0_loops'])\n",
    "            d['loops-per-second'] = d['number-of-loops'] / d['dt']\n",
    "            d['loops'] = []\n",
    "            \n",
    "            t0 = d['t0']\n",
    "            for t1 in d['t0_loops']:\n",
    "                d['loops'].append(t1-t0)\n",
    "                t0 = t1\n",
    "        d.pop('t0')\n",
    "        d.pop('t0_loops')\n",
    "        self.current_stats = None"
   ]
  },
  {
   "cell_type": "markdown",
   "metadata": {},
   "source": [
    "# Part 1 - Compare scanners"
   ]
  },
  {
   "cell_type": "code",
   "execution_count": null,
   "metadata": {},
   "outputs": [],
   "source": [
    "def run_part1(bits, sample, radius, nlinear=1000, nthread=5000, nopencl=5000):\n",
    "    address_space = sdmlib.AddressSpace.init_random(bits, sample)\n",
    "    address_space.opencl_init();\n",
    "    \n",
    "    timer = Timer()\n",
    "\n",
    "    print('Running linear scan...')\n",
    "    timer.start('scan_linear', 'Linear scan')\n",
    "    for i in range(nlinear):\n",
    "        bs = sdmlib.Bitstring.init_random(bits)\n",
    "        address_space.scan_linear2(bs, radius)\n",
    "        timer.measure_loop()\n",
    "    timer.end()\n",
    "\n",
    "    timer.start('scan_thread', 'Thread scan')\n",
    "    print('Running thread scan...')\n",
    "    for i in range(nthread):\n",
    "        bs = sdmlib.Bitstring.init_random(bits)\n",
    "        address_space.scan_thread2(bs, radius)  \n",
    "        timer.measure_loop()\n",
    "    timer.end()\n",
    "    \n",
    "    timer.start('scan_opencl', 'OpenCL scan')\n",
    "    print('Running OpenCL scan...')\n",
    "    for i in range(nopencl):\n",
    "        bs = sdmlib.Bitstring.init_random(bits)\n",
    "        address_space.scan_opencl2(bs, radius)\n",
    "        timer.measure_loop()\n",
    "    timer.end()\n",
    "    \n",
    "    return timer"
   ]
  },
  {
   "cell_type": "code",
   "execution_count": null,
   "metadata": {},
   "outputs": [],
   "source": [
    "def results_part1(bits, timer):\n",
    "    from IPython.display import display, Markdown\n",
    "    v = [['', 'Loops', 'Total time', 'Scans per second', 'Time per scan (ms)']]\n",
    "    v.append(['---', '---:', '---:', '---:', '---:'])\n",
    "    for key in ['scan_linear', 'scan_thread', 'scan_opencl']:\n",
    "        stats = timer.stats[key]\n",
    "        v.append([\n",
    "            stats['name'],\n",
    "            stats['number-of-loops'],\n",
    "            stats['dt'],\n",
    "            stats['loops-per-second'],\n",
    "            1000.0 / stats['loops-per-second'],\n",
    "        ])\n",
    "    txt = '\\n'.join(['|'.join([str(x) for x in row]) for row in v])\n",
    "    display(Markdown(txt))\n",
    "    \n",
    "    latex = '\\\\ \\hfill\\n'.join([' & '.join([str(x) for x in row]) for row in v])\n",
    "    print latex\n",
    "\n",
    "    plt.figure(figsize=(8, 6), dpi=300)\n",
    "    plt.hist([1000*x for x in timer.stats['scan_linear']['loops']], bins='fd', density=True, alpha=0.9, label='Linear scan')\n",
    "    plt.hist([1000*x for x in timer.stats['scan_thread']['loops']], bins='fd', density=True, alpha=0.9, label='Thread scan')\n",
    "    plt.hist([1000*x for x in timer.stats['scan_opencl']['loops']], bins='fd', density=True, alpha=0.9, label='OpenCL scan')\n",
    "    plt.legend()\n",
    "    plt.title('Scan performance ($n={}$ bits)'.format(bits))\n",
    "    plt.xlabel('Scan duration (ms)')\n",
    "    plt.ylabel('Probability')"
   ]
  },
  {
   "cell_type": "code",
   "execution_count": null,
   "metadata": {},
   "outputs": [],
   "source": [
    "timer1000 = run_part1(1000, 1000000, 451)"
   ]
  },
  {
   "cell_type": "code",
   "execution_count": null,
   "metadata": {
    "scrolled": false
   },
   "outputs": [],
   "source": [
    "results_part1(1000, timer1000)"
   ]
  },
  {
   "cell_type": "code",
   "execution_count": null,
   "metadata": {},
   "outputs": [],
   "source": [
    "timer256 = run_part1(256, 1000000, 103)"
   ]
  },
  {
   "cell_type": "code",
   "execution_count": null,
   "metadata": {},
   "outputs": [],
   "source": [
    "results_part1(256, timer256)\n",
    "plt.xlim(2.4, 7.5);"
   ]
  },
  {
   "cell_type": "code",
   "execution_count": null,
   "metadata": {},
   "outputs": [],
   "source": [
    "timer10k = run_part1(10000, 1000000, 4845, nlinear=100, nthread=500, nopencl=1000)"
   ]
  },
  {
   "cell_type": "code",
   "execution_count": null,
   "metadata": {},
   "outputs": [],
   "source": [
    "results_part1(10000, timer10k)\n",
    "plt.xlim(7, 150);"
   ]
  },
  {
   "cell_type": "markdown",
   "metadata": {},
   "source": [
    "# Part 2 - Compare scanners read/write"
   ]
  },
  {
   "cell_type": "code",
   "execution_count": null,
   "metadata": {},
   "outputs": [],
   "source": [
    "def read_write(key, name, timer, bits, sample, radius, scanner_type, n):\n",
    "    address_space = sdmlib.AddressSpace.init_random(bits, sample)\n",
    "    counter = sdmlib.Counter.init_zero(bits, sample)\n",
    "    sdm = sdmlib.SDM(address_space, counter, radius, scanner_type)\n",
    "\n",
    "    timer.start('write_{}'.format(key), '{} write'.format(name))\n",
    "    for _ in range(n):\n",
    "        bs = sdmlib.Bitstring.init_random(bits)\n",
    "        sdm.write(bs, bs)\n",
    "        timer.measure_loop()\n",
    "    timer.end()\n",
    "    \n",
    "    timer.start('read_{}'.format(key), '{} single read'.format(name))\n",
    "    for _ in range(n):\n",
    "        bs = sdmlib.Bitstring.init_random(bits)\n",
    "        sdm.read(bs)\n",
    "        timer.measure_loop()\n",
    "    timer.end()\n",
    "    \n",
    "    return timer"
   ]
  },
  {
   "cell_type": "code",
   "execution_count": null,
   "metadata": {},
   "outputs": [],
   "source": [
    "def run_part2(bits, sample, radius, nthread=1000, nopencl=1000):\n",
    "    timer = Timer()\n",
    "    print 'Running thread...'\n",
    "    read_write('thread', 'Thread', timer, bits, sample, radius, sdmlib.SDM_SCANNER_THREAD, n=nthread)\n",
    "    print 'Running OpenCL...'\n",
    "    read_write('opencl', 'OpenCL', timer, bits, sample, radius, sdmlib.SDM_SCANNER_OPENCL, n=nopencl)\n",
    "    return timer"
   ]
  },
  {
   "cell_type": "code",
   "execution_count": null,
   "metadata": {},
   "outputs": [],
   "source": [
    "def results_part2(bits, timer, hist_xlim=None):\n",
    "    from IPython.display import display, Markdown\n",
    "    v = [['', 'Loops', 'Total time', 'Operation per second', 'Time per operation (ms)']]\n",
    "    v.append(['---', '---:', '---:', '---:', '---:'])\n",
    "    for key in timer.stats.keys():\n",
    "        stats = timer.stats[key]\n",
    "        v.append([\n",
    "            stats['name'],\n",
    "            stats['number-of-loops'],\n",
    "            stats['dt'],\n",
    "            stats['loops-per-second'],\n",
    "            1000.0 / stats['loops-per-second'],\n",
    "        ])\n",
    "    txt = '\\n'.join(['|'.join([str(x) for x in row]) for row in v])\n",
    "    display(Markdown(txt))\n",
    "\n",
    "    plt.figure(figsize=(8, 6), dpi=300)\n",
    "    for key in ['write_thread', 'write_opencl']:\n",
    "        stats = timer.stats[key]\n",
    "        plt.hist([1000*x for x in stats['loops']], bins='fd', density=True, alpha=0.9, label=stats['name'])\n",
    "    plt.legend()\n",
    "    plt.title('Write performance ($n={}$ bits)'.format(bits))\n",
    "    plt.xlabel('Scan duration (ms)')\n",
    "    plt.ylabel('Probability')\n",
    "    if hist_xlim:\n",
    "        plt.xlim(*hist_xlim)\n",
    "    plt.show()\n",
    "    \n",
    "    plt.figure(figsize=(8, 6), dpi=300)\n",
    "    for key in ['read_thread', 'read_opencl']:\n",
    "        stats = timer.stats[key]\n",
    "        plt.hist([1000*x for x in stats['loops']], bins='fd', density=True, alpha=0.9, label=stats['name'])\n",
    "    plt.legend()\n",
    "    plt.title('Read performance ($n={}$ bits)'.format(bits))\n",
    "    plt.xlabel('Scan duration (ms)')\n",
    "    plt.ylabel('Probability')\n",
    "    if hist_xlim:\n",
    "        plt.xlim(*hist_xlim)"
   ]
  },
  {
   "cell_type": "code",
   "execution_count": null,
   "metadata": {},
   "outputs": [],
   "source": [
    "p2timer1000 = run_part2(1000, 1000000, 451, nthread=1000, nopencl=1000)"
   ]
  },
  {
   "cell_type": "code",
   "execution_count": null,
   "metadata": {},
   "outputs": [],
   "source": [
    "results_part2(1000, p2timer1000, hist_xlim=(0, 23))"
   ]
  },
  {
   "cell_type": "code",
   "execution_count": null,
   "metadata": {},
   "outputs": [],
   "source": [
    "p2timer256 = run_part2(256, 1000000, 103, nthread=2000, nopencl=2000)"
   ]
  },
  {
   "cell_type": "code",
   "execution_count": null,
   "metadata": {},
   "outputs": [],
   "source": [
    "results_part2(256, p2timer256, hist_xlim=(0, 8))"
   ]
  },
  {
   "cell_type": "code",
   "execution_count": null,
   "metadata": {},
   "outputs": [],
   "source": [
    "#p2timer10k = run_part2(10000, 1000000, 4845, nthread=500, nopencl=1000)"
   ]
  },
  {
   "cell_type": "code",
   "execution_count": null,
   "metadata": {},
   "outputs": [],
   "source": [
    "#results_part2(10000, p2timer10k, hist1_xlim=(0, 8), hist2_xlim=(0, 8))"
   ]
  },
  {
   "cell_type": "markdown",
   "metadata": {},
   "source": [
    "## Part 3 - Kernels comparison"
   ]
  },
  {
   "cell_type": "code",
   "execution_count": null,
   "metadata": {},
   "outputs": [],
   "source": [
    "def run_part3(bits, sample, radius, n=1000):\n",
    "    address_space = sdmlib.AddressSpace.init_random(bits, sample)\n",
    "    address_space.opencl_init()\n",
    "    #address_space.opencl_opts.verbose = 1\n",
    "    bs = sdmlib.Bitstring.init_random(bits)\n",
    "    expected = set(address_space.scan_opencl2(bs, radius))\n",
    "    \n",
    "    timer = Timer()\n",
    "    for kernel in sdmlib.OPENCL_KERNEL_NAMES:\n",
    "        address_space.set_opencl_kernel(kernel)\n",
    "        \n",
    "        print('Running kernel {}...'.format(kernel))\n",
    "        timer.start(kernel, kernel)\n",
    "        for _ in range(n):\n",
    "            address_space.scan_opencl2(bs, radius)\n",
    "            timer.measure_loop()\n",
    "        timer.end()\n",
    "    return timer"
   ]
  },
  {
   "cell_type": "code",
   "execution_count": null,
   "metadata": {},
   "outputs": [],
   "source": [
    "def results_part3(bits, timer, hist_xlim=None):\n",
    "    from IPython.display import display, Markdown\n",
    "    v = [['', 'Loops', 'Total time', 'Scans per second', 'Time per scan (ms)']]\n",
    "    v.append([':---', '---:', '---:', '---:', '---:'])\n",
    "    for key in timer.stats.keys():\n",
    "        stats = timer.stats[key]\n",
    "        v.append([\n",
    "            stats['name'],\n",
    "            stats['number-of-loops'],\n",
    "            stats['dt'],\n",
    "            stats['loops-per-second'],\n",
    "            1000.0 / stats['loops-per-second'],\n",
    "        ])\n",
    "    txt = '\\n'.join(['|'.join([str(x) for x in row]) for row in v])\n",
    "    display(Markdown(txt))\n",
    "    \n",
    "    plt.figure(figsize=(8, 6), dpi=300)\n",
    "    for key in timer.stats.keys():\n",
    "        stats = timer.stats[key]\n",
    "        plt.hist([1000*x for x in stats['loops']], bins='fd', density=True, alpha=0.75, label=stats['name'])\n",
    "    plt.legend()\n",
    "    plt.title('Kernels performance ($n={}$ bits)'.format(bits))\n",
    "    plt.xlabel('Scan duration (ms)')\n",
    "    plt.ylabel('Probability')\n",
    "    if hist_xlim:\n",
    "        plt.xlim(*hist_xlim)\n",
    "    plt.show()"
   ]
  },
  {
   "cell_type": "code",
   "execution_count": null,
   "metadata": {},
   "outputs": [],
   "source": [
    "p3timer1000 = run_part3(1000, 1000000, 451, n=3000)"
   ]
  },
  {
   "cell_type": "code",
   "execution_count": null,
   "metadata": {},
   "outputs": [],
   "source": [
    "results_part3(1000, p3timer1000, hist_xlim=(2, 7))"
   ]
  },
  {
   "cell_type": "code",
   "execution_count": null,
   "metadata": {},
   "outputs": [],
   "source": [
    "p3timer256 = run_part3(256, 1000000, 103, n=3000)"
   ]
  },
  {
   "cell_type": "code",
   "execution_count": null,
   "metadata": {},
   "outputs": [],
   "source": [
    "results_part3(256, p3timer256, hist_xlim=(2, 7))"
   ]
  },
  {
   "cell_type": "code",
   "execution_count": null,
   "metadata": {},
   "outputs": [],
   "source": [
    "p3timer10k = run_part3(10000, 1000000, 4845, n=500)"
   ]
  },
  {
   "cell_type": "code",
   "execution_count": null,
   "metadata": {},
   "outputs": [],
   "source": [
    "results_part3(10000, p3timer10k, hist_xlim=(8, 70))"
   ]
  },
  {
   "cell_type": "code",
   "execution_count": null,
   "metadata": {},
   "outputs": [],
   "source": [
    "results_part3(10000, p3timer10k, hist_xlim=(10, 15))"
   ]
  },
  {
   "cell_type": "code",
   "execution_count": null,
   "metadata": {},
   "outputs": [],
   "source": []
  }
 ],
 "metadata": {
  "kernelspec": {
   "display_name": "Python 3",
   "language": "python",
   "name": "python3"
  },
  "language_info": {
   "codemirror_mode": {
    "name": "ipython",
    "version": 3
   },
   "file_extension": ".py",
   "mimetype": "text/x-python",
   "name": "python",
   "nbconvert_exporter": "python",
   "pygments_lexer": "ipython3",
   "version": "3.6.4"
  }
 },
 "nbformat": 4,
 "nbformat_minor": 2
}
