{
 "cells": [
  {
   "cell_type": "code",
   "execution_count": null,
   "metadata": {},
   "outputs": [],
   "source": [
    "import sdm as sdmlib\n",
    "import matplotlib.pyplot as plt"
   ]
  },
  {
   "cell_type": "code",
   "execution_count": null,
   "metadata": {},
   "outputs": [],
   "source": [
    "def run(n, H, r, d, steps=100):\n",
    "    \"\"\"\n",
    "    n = bits\n",
    "    H = number of hardlocations\n",
    "    r = radius\n",
    "    d = distance between bitstrings\n",
    "    \"\"\"\n",
    "    as1 = sdmlib.AddressSpace.init_random(n, H)\n",
    "    v = []\n",
    "    for _ in range(steps):\n",
    "        bs1 = sdmlib.Bitstring.init_random(n)\n",
    "        bs2 = bs1.copy()\n",
    "        bs2.flip_random_bits(d)\n",
    "        selected1 = as1.scan_thread2(bs1, r)\n",
    "        selected2 = as1.scan_thread2(bs2, r)\n",
    "        x = len(set(selected1) & set(selected2))\n",
    "        v.append(x)\n",
    "    return v"
   ]
  },
  {
   "cell_type": "code",
   "execution_count": null,
   "metadata": {},
   "outputs": [],
   "source": [
    "v = run(1000, 1000000, 451, 0)"
   ]
  },
  {
   "cell_type": "code",
   "execution_count": null,
   "metadata": {},
   "outputs": [],
   "source": [
    "mu = 1.0*sum(v)/len(v)\n",
    "var = sum((x-mu)**2 for x in v)/len(v)\n",
    "print('mu', mu)\n",
    "print('var', var)"
   ]
  },
  {
   "cell_type": "code",
   "execution_count": null,
   "metadata": {},
   "outputs": [],
   "source": [
    "plt.figure(figsize=(8, 6), dpi=300)\n",
    "plt.hist(v, bins='fd');"
   ]
  },
  {
   "cell_type": "code",
   "execution_count": null,
   "metadata": {},
   "outputs": [],
   "source": []
  }
 ],
 "metadata": {
  "kernelspec": {
   "display_name": "Python 3",
   "language": "python",
   "name": "python3"
  },
  "language_info": {
   "codemirror_mode": {
    "name": "ipython",
    "version": 2
   },
   "file_extension": ".py",
   "mimetype": "text/x-python",
   "name": "python",
   "nbconvert_exporter": "python",
   "pygments_lexer": "ipython2",
   "version": "2.7.10"
  }
 },
 "nbformat": 4,
 "nbformat_minor": 2
}
